{
 "cells": [
  {
   "cell_type": "code",
   "execution_count": 1,
   "outputs": [],
   "source": [
    "%load_ext autoreload\n",
    "%autoreload 2"
   ],
   "metadata": {
    "collapsed": false,
    "pycharm": {
     "name": "#%%\n"
    }
   }
  },
  {
   "cell_type": "code",
   "execution_count": 2,
   "metadata": {
    "collapsed": true,
    "pycharm": {
     "name": "#%%\n"
    }
   },
   "outputs": [],
   "source": [
    "import djmix as dj"
   ]
  },
  {
   "cell_type": "code",
   "execution_count": 18,
   "outputs": [
    {
     "data": {
      "text/plain": "Mix(id=mix4686, title=\"2019-08-04 - Palms Trax @ Dekmantel Festival, Amsterdam\")"
     },
     "execution_count": 18,
     "metadata": {},
     "output_type": "execute_result"
    }
   ],
   "source": [
    "mix = dj.mixes[4686]\n",
    "mix"
   ],
   "metadata": {
    "collapsed": false,
    "pycharm": {
     "name": "#%%\n"
    }
   }
  },
  {
   "cell_type": "code",
   "execution_count": 19,
   "outputs": [
    {
     "name": "stderr",
     "output_type": "stream",
     "text": [
      "INFO:root:=> Start downloading mix4686\n"
     ]
    },
    {
     "name": "stdout",
     "output_type": "stream",
     "text": [
      "[soundcloud] dkmntl/palms-trax-at-dekmantel-festival-2019: Downloading info JSON\n",
      "[soundcloud] 700594228: Downloading JSON metadata\n",
      "[soundcloud] 700594228: Downloading JSON metadata\n",
      "[soundcloud] 700594228: Downloading JSON metadata\n",
      "[info] 700594228: Downloading 1 format(s): http_mp3_128\n",
      "[download] Destination: /Users/taejun/djmix/mixes/mix4686.mp3\n",
      "[download]  18.9% of 105.56MiB at    9.87MiB/s ETA 00:08"
     ]
    },
    {
     "name": "stderr",
     "output_type": "stream",
     "text": [
      "[download] Got error: The read operation timed out\n"
     ]
    },
    {
     "ename": "DownloadError",
     "evalue": "ERROR: \r[download] Got error: The read operation timed out",
     "output_type": "error",
     "traceback": [
      "\u001B[0;31m---------------------------------------------------------------------------\u001B[0m",
      "\u001B[0;31mDownloadError\u001B[0m                             Traceback (most recent call last)",
      "Input \u001B[0;32mIn [19]\u001B[0m, in \u001B[0;36m<cell line: 1>\u001B[0;34m()\u001B[0m\n\u001B[0;32m----> 1\u001B[0m \u001B[43mmix\u001B[49m\u001B[38;5;241;43m.\u001B[39;49m\u001B[43mdownload\u001B[49m\u001B[43m(\u001B[49m\u001B[43m)\u001B[49m\n",
      "File \u001B[0;32m~/git/djmix-dataset/djmix/models/Mix.py:31\u001B[0m, in \u001B[0;36mMix.download\u001B[0;34m(self)\u001B[0m\n\u001B[1;32m     30\u001B[0m \u001B[38;5;28;01mdef\u001B[39;00m \u001B[38;5;21mdownload\u001B[39m(\u001B[38;5;28mself\u001B[39m):\n\u001B[0;32m---> 31\u001B[0m   \u001B[43mdownload_mix\u001B[49m\u001B[43m(\u001B[49m\u001B[38;5;28;43mself\u001B[39;49m\u001B[43m)\u001B[49m\n\u001B[1;32m     33\u001B[0m   \u001B[38;5;28;01mfor\u001B[39;00m track \u001B[38;5;129;01min\u001B[39;00m \u001B[38;5;28mself\u001B[39m\u001B[38;5;241m.\u001B[39mtracklist:\n\u001B[1;32m     34\u001B[0m     \u001B[38;5;28;01mtry\u001B[39;00m:\n",
      "File \u001B[0;32m~/git/djmix-dataset/djmix/download.py:28\u001B[0m, in \u001B[0;36mdownload_mix\u001B[0;34m(mix)\u001B[0m\n\u001B[1;32m     26\u001B[0m logging\u001B[38;5;241m.\u001B[39minfo(\u001B[38;5;124mf\u001B[39m\u001B[38;5;124m'\u001B[39m\u001B[38;5;124m=> Start downloading \u001B[39m\u001B[38;5;132;01m{\u001B[39;00mmix\u001B[38;5;241m.\u001B[39mid\u001B[38;5;132;01m}\u001B[39;00m\u001B[38;5;124m'\u001B[39m)\n\u001B[1;32m     27\u001B[0m root \u001B[38;5;241m=\u001B[39m config\u001B[38;5;241m.\u001B[39mget_root()\n\u001B[0;32m---> 28\u001B[0m \u001B[43mdownload_audio\u001B[49m\u001B[43m(\u001B[49m\n\u001B[1;32m     29\u001B[0m \u001B[43m  \u001B[49m\u001B[43murl\u001B[49m\u001B[38;5;241;43m=\u001B[39;49m\u001B[43mmix\u001B[49m\u001B[38;5;241;43m.\u001B[39;49m\u001B[43maudio_url\u001B[49m\u001B[43m,\u001B[49m\n\u001B[1;32m     30\u001B[0m \u001B[43m  \u001B[49m\u001B[43mpath\u001B[49m\u001B[38;5;241;43m=\u001B[39;49m\u001B[43mutils\u001B[49m\u001B[38;5;241;43m.\u001B[39;49m\u001B[43mmkpath\u001B[49m\u001B[43m(\u001B[49m\u001B[43mroot\u001B[49m\u001B[43m,\u001B[49m\u001B[43m \u001B[49m\u001B[38;5;124;43m'\u001B[39;49m\u001B[38;5;124;43mmixes\u001B[39;49m\u001B[38;5;124;43m'\u001B[39;49m\u001B[43m,\u001B[49m\u001B[43m \u001B[49m\u001B[38;5;124;43mf\u001B[39;49m\u001B[38;5;124;43m'\u001B[39;49m\u001B[38;5;132;43;01m{\u001B[39;49;00m\u001B[43mmix\u001B[49m\u001B[38;5;241;43m.\u001B[39;49m\u001B[43mid\u001B[49m\u001B[38;5;132;43;01m}\u001B[39;49;00m\u001B[38;5;124;43m.mp3\u001B[39;49m\u001B[38;5;124;43m'\u001B[39;49m\u001B[43m)\u001B[49m\n\u001B[1;32m     31\u001B[0m \u001B[43m\u001B[49m\u001B[43m)\u001B[49m\n",
      "File \u001B[0;32m~/git/djmix-dataset/djmix/download.py:60\u001B[0m, in \u001B[0;36mdownload_audio\u001B[0;34m(url, path)\u001B[0m\n\u001B[1;32m     58\u001B[0m \u001B[38;5;28;01mwith\u001B[39;00m YoutubeDL(params) \u001B[38;5;28;01mas\u001B[39;00m ydl:\n\u001B[1;32m     59\u001B[0m   os\u001B[38;5;241m.\u001B[39mmakedirs(os\u001B[38;5;241m.\u001B[39mpath\u001B[38;5;241m.\u001B[39mdirname(path), exist_ok\u001B[38;5;241m=\u001B[39m\u001B[38;5;28;01mTrue\u001B[39;00m)\n\u001B[0;32m---> 60\u001B[0m   \u001B[43mydl\u001B[49m\u001B[38;5;241;43m.\u001B[39;49m\u001B[43mdownload\u001B[49m\u001B[43m(\u001B[49m\u001B[43murl\u001B[49m\u001B[43m)\u001B[49m\n",
      "File \u001B[0;32m~/miniconda3/envs/djmix/lib/python3.9/site-packages/yt_dlp/YoutubeDL.py:3291\u001B[0m, in \u001B[0;36mYoutubeDL.download\u001B[0;34m(self, url_list)\u001B[0m\n\u001B[1;32m   3288\u001B[0m     \u001B[38;5;28;01mraise\u001B[39;00m SameFileError(outtmpl)\n\u001B[1;32m   3290\u001B[0m \u001B[38;5;28;01mfor\u001B[39;00m url \u001B[38;5;129;01min\u001B[39;00m url_list:\n\u001B[0;32m-> 3291\u001B[0m     \u001B[38;5;28;43mself\u001B[39;49m\u001B[38;5;241;43m.\u001B[39;49m\u001B[43m__download_wrapper\u001B[49m\u001B[43m(\u001B[49m\u001B[38;5;28;43mself\u001B[39;49m\u001B[38;5;241;43m.\u001B[39;49m\u001B[43mextract_info\u001B[49m\u001B[43m)\u001B[49m\u001B[43m(\u001B[49m\n\u001B[1;32m   3292\u001B[0m \u001B[43m        \u001B[49m\u001B[43murl\u001B[49m\u001B[43m,\u001B[49m\u001B[43m \u001B[49m\u001B[43mforce_generic_extractor\u001B[49m\u001B[38;5;241;43m=\u001B[39;49m\u001B[38;5;28;43mself\u001B[39;49m\u001B[38;5;241;43m.\u001B[39;49m\u001B[43mparams\u001B[49m\u001B[38;5;241;43m.\u001B[39;49m\u001B[43mget\u001B[49m\u001B[43m(\u001B[49m\u001B[38;5;124;43m'\u001B[39;49m\u001B[38;5;124;43mforce_generic_extractor\u001B[39;49m\u001B[38;5;124;43m'\u001B[39;49m\u001B[43m,\u001B[49m\u001B[43m \u001B[49m\u001B[38;5;28;43;01mFalse\u001B[39;49;00m\u001B[43m)\u001B[49m\u001B[43m)\u001B[49m\n\u001B[1;32m   3294\u001B[0m \u001B[38;5;28;01mreturn\u001B[39;00m \u001B[38;5;28mself\u001B[39m\u001B[38;5;241m.\u001B[39m_download_retcode\n",
      "File \u001B[0;32m~/miniconda3/envs/djmix/lib/python3.9/site-packages/yt_dlp/YoutubeDL.py:3267\u001B[0m, in \u001B[0;36mYoutubeDL.__download_wrapper.<locals>.wrapper\u001B[0;34m(*args, **kwargs)\u001B[0m\n\u001B[1;32m   3264\u001B[0m \u001B[38;5;129m@functools\u001B[39m\u001B[38;5;241m.\u001B[39mwraps(func)\n\u001B[1;32m   3265\u001B[0m \u001B[38;5;28;01mdef\u001B[39;00m \u001B[38;5;21mwrapper\u001B[39m(\u001B[38;5;241m*\u001B[39margs, \u001B[38;5;241m*\u001B[39m\u001B[38;5;241m*\u001B[39mkwargs):\n\u001B[1;32m   3266\u001B[0m     \u001B[38;5;28;01mtry\u001B[39;00m:\n\u001B[0;32m-> 3267\u001B[0m         res \u001B[38;5;241m=\u001B[39m \u001B[43mfunc\u001B[49m\u001B[43m(\u001B[49m\u001B[38;5;241;43m*\u001B[39;49m\u001B[43margs\u001B[49m\u001B[43m,\u001B[49m\u001B[43m \u001B[49m\u001B[38;5;241;43m*\u001B[39;49m\u001B[38;5;241;43m*\u001B[39;49m\u001B[43mkwargs\u001B[49m\u001B[43m)\u001B[49m\n\u001B[1;32m   3268\u001B[0m     \u001B[38;5;28;01mexcept\u001B[39;00m UnavailableVideoError \u001B[38;5;28;01mas\u001B[39;00m e:\n\u001B[1;32m   3269\u001B[0m         \u001B[38;5;28mself\u001B[39m\u001B[38;5;241m.\u001B[39mreport_error(e)\n",
      "File \u001B[0;32m~/miniconda3/envs/djmix/lib/python3.9/site-packages/yt_dlp/YoutubeDL.py:1433\u001B[0m, in \u001B[0;36mYoutubeDL.extract_info\u001B[0;34m(self, url, download, ie_key, extra_info, process, force_generic_extractor)\u001B[0m\n\u001B[1;32m   1431\u001B[0m             \u001B[38;5;28;01mraise\u001B[39;00m ExistingVideoReached()\n\u001B[1;32m   1432\u001B[0m         \u001B[38;5;28;01mbreak\u001B[39;00m\n\u001B[0;32m-> 1433\u001B[0m     \u001B[38;5;28;01mreturn\u001B[39;00m \u001B[38;5;28;43mself\u001B[39;49m\u001B[38;5;241;43m.\u001B[39;49m\u001B[43m__extract_info\u001B[49m\u001B[43m(\u001B[49m\u001B[43murl\u001B[49m\u001B[43m,\u001B[49m\u001B[43m \u001B[49m\u001B[38;5;28;43mself\u001B[39;49m\u001B[38;5;241;43m.\u001B[39;49m\u001B[43mget_info_extractor\u001B[49m\u001B[43m(\u001B[49m\u001B[43mie_key\u001B[49m\u001B[43m)\u001B[49m\u001B[43m,\u001B[49m\u001B[43m \u001B[49m\u001B[43mdownload\u001B[49m\u001B[43m,\u001B[49m\u001B[43m \u001B[49m\u001B[43mextra_info\u001B[49m\u001B[43m,\u001B[49m\u001B[43m \u001B[49m\u001B[43mprocess\u001B[49m\u001B[43m)\u001B[49m\n\u001B[1;32m   1434\u001B[0m \u001B[38;5;28;01melse\u001B[39;00m:\n\u001B[1;32m   1435\u001B[0m     \u001B[38;5;28mself\u001B[39m\u001B[38;5;241m.\u001B[39mreport_error(\u001B[38;5;124m'\u001B[39m\u001B[38;5;124mno suitable InfoExtractor for URL \u001B[39m\u001B[38;5;132;01m%s\u001B[39;00m\u001B[38;5;124m'\u001B[39m \u001B[38;5;241m%\u001B[39m url)\n",
      "File \u001B[0;32m~/miniconda3/envs/djmix/lib/python3.9/site-packages/yt_dlp/YoutubeDL.py:1442\u001B[0m, in \u001B[0;36mYoutubeDL._handle_extraction_exceptions.<locals>.wrapper\u001B[0;34m(self, *args, **kwargs)\u001B[0m\n\u001B[1;32m   1440\u001B[0m \u001B[38;5;28;01mwhile\u001B[39;00m \u001B[38;5;28;01mTrue\u001B[39;00m:\n\u001B[1;32m   1441\u001B[0m     \u001B[38;5;28;01mtry\u001B[39;00m:\n\u001B[0;32m-> 1442\u001B[0m         \u001B[38;5;28;01mreturn\u001B[39;00m \u001B[43mfunc\u001B[49m\u001B[43m(\u001B[49m\u001B[38;5;28;43mself\u001B[39;49m\u001B[43m,\u001B[49m\u001B[43m \u001B[49m\u001B[38;5;241;43m*\u001B[39;49m\u001B[43margs\u001B[49m\u001B[43m,\u001B[49m\u001B[43m \u001B[49m\u001B[38;5;241;43m*\u001B[39;49m\u001B[38;5;241;43m*\u001B[39;49m\u001B[43mkwargs\u001B[49m\u001B[43m)\u001B[49m\n\u001B[1;32m   1443\u001B[0m     \u001B[38;5;28;01mexcept\u001B[39;00m (DownloadCancelled, LazyList\u001B[38;5;241m.\u001B[39mIndexError, PagedList\u001B[38;5;241m.\u001B[39mIndexError):\n\u001B[1;32m   1444\u001B[0m         \u001B[38;5;28;01mraise\u001B[39;00m\n",
      "File \u001B[0;32m~/miniconda3/envs/djmix/lib/python3.9/site-packages/yt_dlp/YoutubeDL.py:1539\u001B[0m, in \u001B[0;36mYoutubeDL.__extract_info\u001B[0;34m(self, url, ie, download, extra_info, process)\u001B[0m\n\u001B[1;32m   1537\u001B[0m \u001B[38;5;28;01mif\u001B[39;00m process:\n\u001B[1;32m   1538\u001B[0m     \u001B[38;5;28mself\u001B[39m\u001B[38;5;241m.\u001B[39m_wait_for_video(ie_result)\n\u001B[0;32m-> 1539\u001B[0m     \u001B[38;5;28;01mreturn\u001B[39;00m \u001B[38;5;28;43mself\u001B[39;49m\u001B[38;5;241;43m.\u001B[39;49m\u001B[43mprocess_ie_result\u001B[49m\u001B[43m(\u001B[49m\u001B[43mie_result\u001B[49m\u001B[43m,\u001B[49m\u001B[43m \u001B[49m\u001B[43mdownload\u001B[49m\u001B[43m,\u001B[49m\u001B[43m \u001B[49m\u001B[43mextra_info\u001B[49m\u001B[43m)\u001B[49m\n\u001B[1;32m   1540\u001B[0m \u001B[38;5;28;01melse\u001B[39;00m:\n\u001B[1;32m   1541\u001B[0m     \u001B[38;5;28;01mreturn\u001B[39;00m ie_result\n",
      "File \u001B[0;32m~/miniconda3/envs/djmix/lib/python3.9/site-packages/yt_dlp/YoutubeDL.py:1597\u001B[0m, in \u001B[0;36mYoutubeDL.process_ie_result\u001B[0;34m(self, ie_result, download, extra_info)\u001B[0m\n\u001B[1;32m   1595\u001B[0m \u001B[38;5;28;01mif\u001B[39;00m result_type \u001B[38;5;241m==\u001B[39m \u001B[38;5;124m'\u001B[39m\u001B[38;5;124mvideo\u001B[39m\u001B[38;5;124m'\u001B[39m:\n\u001B[1;32m   1596\u001B[0m     \u001B[38;5;28mself\u001B[39m\u001B[38;5;241m.\u001B[39madd_extra_info(ie_result, extra_info)\n\u001B[0;32m-> 1597\u001B[0m     ie_result \u001B[38;5;241m=\u001B[39m \u001B[38;5;28;43mself\u001B[39;49m\u001B[38;5;241;43m.\u001B[39;49m\u001B[43mprocess_video_result\u001B[49m\u001B[43m(\u001B[49m\u001B[43mie_result\u001B[49m\u001B[43m,\u001B[49m\u001B[43m \u001B[49m\u001B[43mdownload\u001B[49m\u001B[38;5;241;43m=\u001B[39;49m\u001B[43mdownload\u001B[49m\u001B[43m)\u001B[49m\n\u001B[1;32m   1598\u001B[0m     \u001B[38;5;28mself\u001B[39m\u001B[38;5;241m.\u001B[39m_raise_pending_errors(ie_result)\n\u001B[1;32m   1599\u001B[0m     additional_urls \u001B[38;5;241m=\u001B[39m (ie_result \u001B[38;5;129;01mor\u001B[39;00m {})\u001B[38;5;241m.\u001B[39mget(\u001B[38;5;124m'\u001B[39m\u001B[38;5;124madditional_urls\u001B[39m\u001B[38;5;124m'\u001B[39m)\n",
      "File \u001B[0;32m~/miniconda3/envs/djmix/lib/python3.9/site-packages/yt_dlp/YoutubeDL.py:2695\u001B[0m, in \u001B[0;36mYoutubeDL.process_video_result\u001B[0;34m(self, info_dict, download)\u001B[0m\n\u001B[1;32m   2693\u001B[0m downloaded_formats\u001B[38;5;241m.\u001B[39mappend(new_info)\n\u001B[1;32m   2694\u001B[0m \u001B[38;5;28;01mtry\u001B[39;00m:\n\u001B[0;32m-> 2695\u001B[0m     \u001B[38;5;28;43mself\u001B[39;49m\u001B[38;5;241;43m.\u001B[39;49m\u001B[43mprocess_info\u001B[49m\u001B[43m(\u001B[49m\u001B[43mnew_info\u001B[49m\u001B[43m)\u001B[49m\n\u001B[1;32m   2696\u001B[0m \u001B[38;5;28;01mexcept\u001B[39;00m MaxDownloadsReached:\n\u001B[1;32m   2697\u001B[0m     max_downloads_reached \u001B[38;5;241m=\u001B[39m \u001B[38;5;28;01mTrue\u001B[39;00m\n",
      "File \u001B[0;32m~/miniconda3/envs/djmix/lib/python3.9/site-packages/yt_dlp/YoutubeDL.py:3170\u001B[0m, in \u001B[0;36mYoutubeDL.process_info\u001B[0;34m(self, info_dict)\u001B[0m\n\u001B[1;32m   3166\u001B[0m dl_filename \u001B[38;5;241m=\u001B[39m existing_video_file(full_filename, temp_filename)\n\u001B[1;32m   3167\u001B[0m \u001B[38;5;28;01mif\u001B[39;00m dl_filename \u001B[38;5;129;01mis\u001B[39;00m \u001B[38;5;28;01mNone\u001B[39;00m \u001B[38;5;129;01mor\u001B[39;00m dl_filename \u001B[38;5;241m==\u001B[39m temp_filename:\n\u001B[1;32m   3168\u001B[0m     \u001B[38;5;66;03m# dl_filename == temp_filename could mean that the file was partially downloaded with --no-part.\u001B[39;00m\n\u001B[1;32m   3169\u001B[0m     \u001B[38;5;66;03m# So we should try to resume the download\u001B[39;00m\n\u001B[0;32m-> 3170\u001B[0m     success, real_download \u001B[38;5;241m=\u001B[39m \u001B[38;5;28;43mself\u001B[39;49m\u001B[38;5;241;43m.\u001B[39;49m\u001B[43mdl\u001B[49m\u001B[43m(\u001B[49m\u001B[43mtemp_filename\u001B[49m\u001B[43m,\u001B[49m\u001B[43m \u001B[49m\u001B[43minfo_dict\u001B[49m\u001B[43m)\u001B[49m\n\u001B[1;32m   3171\u001B[0m     info_dict[\u001B[38;5;124m'\u001B[39m\u001B[38;5;124m__real_download\u001B[39m\u001B[38;5;124m'\u001B[39m] \u001B[38;5;241m=\u001B[39m real_download\n\u001B[1;32m   3172\u001B[0m \u001B[38;5;28;01melse\u001B[39;00m:\n",
      "File \u001B[0;32m~/miniconda3/envs/djmix/lib/python3.9/site-packages/yt_dlp/YoutubeDL.py:2894\u001B[0m, in \u001B[0;36mYoutubeDL.dl\u001B[0;34m(self, name, info, subtitle, test)\u001B[0m\n\u001B[1;32m   2892\u001B[0m \u001B[38;5;28;01mif\u001B[39;00m new_info\u001B[38;5;241m.\u001B[39mget(\u001B[38;5;124m'\u001B[39m\u001B[38;5;124mhttp_headers\u001B[39m\u001B[38;5;124m'\u001B[39m) \u001B[38;5;129;01mis\u001B[39;00m \u001B[38;5;28;01mNone\u001B[39;00m:\n\u001B[1;32m   2893\u001B[0m     new_info[\u001B[38;5;124m'\u001B[39m\u001B[38;5;124mhttp_headers\u001B[39m\u001B[38;5;124m'\u001B[39m] \u001B[38;5;241m=\u001B[39m \u001B[38;5;28mself\u001B[39m\u001B[38;5;241m.\u001B[39m_calc_headers(new_info)\n\u001B[0;32m-> 2894\u001B[0m \u001B[38;5;28;01mreturn\u001B[39;00m \u001B[43mfd\u001B[49m\u001B[38;5;241;43m.\u001B[39;49m\u001B[43mdownload\u001B[49m\u001B[43m(\u001B[49m\u001B[43mname\u001B[49m\u001B[43m,\u001B[49m\u001B[43m \u001B[49m\u001B[43mnew_info\u001B[49m\u001B[43m,\u001B[49m\u001B[43m \u001B[49m\u001B[43msubtitle\u001B[49m\u001B[43m)\u001B[49m\n",
      "File \u001B[0;32m~/miniconda3/envs/djmix/lib/python3.9/site-packages/yt_dlp/downloader/common.py:442\u001B[0m, in \u001B[0;36mFileDownloader.download\u001B[0;34m(self, filename, info_dict, subtitle)\u001B[0m\n\u001B[1;32m    439\u001B[0m     \u001B[38;5;28mself\u001B[39m\u001B[38;5;241m.\u001B[39mto_screen(\u001B[38;5;124mf\u001B[39m\u001B[38;5;124m'\u001B[39m\u001B[38;5;124m[download] Sleeping \u001B[39m\u001B[38;5;132;01m{\u001B[39;00msleep_interval\u001B[38;5;132;01m:\u001B[39;00m\u001B[38;5;124m.2f\u001B[39m\u001B[38;5;132;01m}\u001B[39;00m\u001B[38;5;124m seconds ...\u001B[39m\u001B[38;5;124m'\u001B[39m)\n\u001B[1;32m    440\u001B[0m     time\u001B[38;5;241m.\u001B[39msleep(sleep_interval)\n\u001B[0;32m--> 442\u001B[0m ret \u001B[38;5;241m=\u001B[39m \u001B[38;5;28;43mself\u001B[39;49m\u001B[38;5;241;43m.\u001B[39;49m\u001B[43mreal_download\u001B[49m\u001B[43m(\u001B[49m\u001B[43mfilename\u001B[49m\u001B[43m,\u001B[49m\u001B[43m \u001B[49m\u001B[43minfo_dict\u001B[49m\u001B[43m)\u001B[49m\n\u001B[1;32m    443\u001B[0m \u001B[38;5;28mself\u001B[39m\u001B[38;5;241m.\u001B[39m_finish_multiline_status()\n\u001B[1;32m    444\u001B[0m \u001B[38;5;28;01mreturn\u001B[39;00m ret, \u001B[38;5;28;01mTrue\u001B[39;00m\n",
      "File \u001B[0;32m~/miniconda3/envs/djmix/lib/python3.9/site-packages/yt_dlp/downloader/http.py:369\u001B[0m, in \u001B[0;36mHttpFD.real_download\u001B[0;34m(self, filename, info_dict)\u001B[0m\n\u001B[1;32m    358\u001B[0m     \u001B[38;5;28mself\u001B[39m\u001B[38;5;241m.\u001B[39m_hook_progress({\n\u001B[1;32m    359\u001B[0m         \u001B[38;5;124m'\u001B[39m\u001B[38;5;124mdownloaded_bytes\u001B[39m\u001B[38;5;124m'\u001B[39m: byte_counter,\n\u001B[1;32m    360\u001B[0m         \u001B[38;5;124m'\u001B[39m\u001B[38;5;124mtotal_bytes\u001B[39m\u001B[38;5;124m'\u001B[39m: byte_counter,\n\u001B[0;32m   (...)\u001B[0m\n\u001B[1;32m    364\u001B[0m         \u001B[38;5;124m'\u001B[39m\u001B[38;5;124mctx_id\u001B[39m\u001B[38;5;124m'\u001B[39m: info_dict\u001B[38;5;241m.\u001B[39mget(\u001B[38;5;124m'\u001B[39m\u001B[38;5;124mctx_id\u001B[39m\u001B[38;5;124m'\u001B[39m),\n\u001B[1;32m    365\u001B[0m     }, info_dict)\n\u001B[1;32m    367\u001B[0m     \u001B[38;5;28;01mreturn\u001B[39;00m \u001B[38;5;28;01mTrue\u001B[39;00m\n\u001B[0;32m--> 369\u001B[0m \u001B[38;5;28;01mfor\u001B[39;00m retry \u001B[38;5;129;01min\u001B[39;00m RetryManager(\u001B[38;5;28mself\u001B[39m\u001B[38;5;241m.\u001B[39mparams\u001B[38;5;241m.\u001B[39mget(\u001B[38;5;124m'\u001B[39m\u001B[38;5;124mretries\u001B[39m\u001B[38;5;124m'\u001B[39m), \u001B[38;5;28mself\u001B[39m\u001B[38;5;241m.\u001B[39mreport_retry):\n\u001B[1;32m    370\u001B[0m     \u001B[38;5;28;01mtry\u001B[39;00m:\n\u001B[1;32m    371\u001B[0m         establish_connection()\n",
      "File \u001B[0;32m~/miniconda3/envs/djmix/lib/python3.9/site-packages/yt_dlp/utils.py:5754\u001B[0m, in \u001B[0;36mRetryManager.__iter__\u001B[0;34m(self)\u001B[0m\n\u001B[1;32m   5752\u001B[0m \u001B[38;5;28;01myield\u001B[39;00m \u001B[38;5;28mself\u001B[39m\n\u001B[1;32m   5753\u001B[0m \u001B[38;5;28;01mif\u001B[39;00m \u001B[38;5;28mself\u001B[39m\u001B[38;5;241m.\u001B[39merror:\n\u001B[0;32m-> 5754\u001B[0m     \u001B[38;5;28;43mself\u001B[39;49m\u001B[38;5;241;43m.\u001B[39;49m\u001B[43merror_callback\u001B[49m\u001B[43m(\u001B[49m\u001B[38;5;28;43mself\u001B[39;49m\u001B[38;5;241;43m.\u001B[39;49m\u001B[43merror\u001B[49m\u001B[43m,\u001B[49m\u001B[43m \u001B[49m\u001B[38;5;28;43mself\u001B[39;49m\u001B[38;5;241;43m.\u001B[39;49m\u001B[43mattempt\u001B[49m\u001B[43m,\u001B[49m\u001B[43m \u001B[49m\u001B[38;5;28;43mself\u001B[39;49m\u001B[38;5;241;43m.\u001B[39;49m\u001B[43mretries\u001B[49m\u001B[43m)\u001B[49m\n",
      "File \u001B[0;32m~/miniconda3/envs/djmix/lib/python3.9/site-packages/yt_dlp/downloader/common.py:387\u001B[0m, in \u001B[0;36mFileDownloader.report_retry\u001B[0;34m(self, err, count, retries, frag_index, fatal)\u001B[0m\n\u001B[1;32m    385\u001B[0m \u001B[38;5;124;03m\"\"\"Report retry\"\"\"\u001B[39;00m\n\u001B[1;32m    386\u001B[0m is_frag \u001B[38;5;241m=\u001B[39m \u001B[38;5;28;01mFalse\u001B[39;00m \u001B[38;5;28;01mif\u001B[39;00m frag_index \u001B[38;5;129;01mis\u001B[39;00m NO_DEFAULT \u001B[38;5;28;01melse\u001B[39;00m \u001B[38;5;124m'\u001B[39m\u001B[38;5;124mfragment\u001B[39m\u001B[38;5;124m'\u001B[39m\n\u001B[0;32m--> 387\u001B[0m \u001B[43mRetryManager\u001B[49m\u001B[38;5;241;43m.\u001B[39;49m\u001B[43mreport_retry\u001B[49m\u001B[43m(\u001B[49m\n\u001B[1;32m    388\u001B[0m \u001B[43m    \u001B[49m\u001B[43merr\u001B[49m\u001B[43m,\u001B[49m\u001B[43m \u001B[49m\u001B[43mcount\u001B[49m\u001B[43m,\u001B[49m\u001B[43m \u001B[49m\u001B[43mretries\u001B[49m\u001B[43m,\u001B[49m\u001B[43m \u001B[49m\u001B[43minfo\u001B[49m\u001B[38;5;241;43m=\u001B[39;49m\u001B[38;5;28;43mself\u001B[39;49m\u001B[38;5;241;43m.\u001B[39;49m\u001B[43m__to_screen\u001B[49m\u001B[43m,\u001B[49m\n\u001B[1;32m    389\u001B[0m \u001B[43m    \u001B[49m\u001B[43mwarn\u001B[49m\u001B[38;5;241;43m=\u001B[39;49m\u001B[38;5;28;43;01mlambda\u001B[39;49;00m\u001B[43m \u001B[49m\u001B[43mmsg\u001B[49m\u001B[43m:\u001B[49m\u001B[43m \u001B[49m\u001B[38;5;28;43mself\u001B[39;49m\u001B[38;5;241;43m.\u001B[39;49m\u001B[43m__to_screen\u001B[49m\u001B[43m(\u001B[49m\u001B[38;5;124;43mf\u001B[39;49m\u001B[38;5;124;43m'\u001B[39;49m\u001B[38;5;124;43m[download] Got error: \u001B[39;49m\u001B[38;5;132;43;01m{\u001B[39;49;00m\u001B[43mmsg\u001B[49m\u001B[38;5;132;43;01m}\u001B[39;49;00m\u001B[38;5;124;43m'\u001B[39;49m\u001B[43m)\u001B[49m\u001B[43m,\u001B[49m\n\u001B[1;32m    390\u001B[0m \u001B[43m    \u001B[49m\u001B[43merror\u001B[49m\u001B[38;5;241;43m=\u001B[39;49m\u001B[43mIDENTITY\u001B[49m\u001B[43m \u001B[49m\u001B[38;5;28;43;01mif\u001B[39;49;00m\u001B[43m \u001B[49m\u001B[38;5;129;43;01mnot\u001B[39;49;00m\u001B[43m \u001B[49m\u001B[43mfatal\u001B[49m\u001B[43m \u001B[49m\u001B[38;5;28;43;01melse\u001B[39;49;00m\u001B[43m \u001B[49m\u001B[38;5;28;43;01mlambda\u001B[39;49;00m\u001B[43m \u001B[49m\u001B[43me\u001B[49m\u001B[43m:\u001B[49m\u001B[43m \u001B[49m\u001B[38;5;28;43mself\u001B[39;49m\u001B[38;5;241;43m.\u001B[39;49m\u001B[43mreport_error\u001B[49m\u001B[43m(\u001B[49m\u001B[38;5;124;43mf\u001B[39;49m\u001B[38;5;124;43m'\u001B[39;49m\u001B[38;5;130;43;01m\\r\u001B[39;49;00m\u001B[38;5;124;43m[download] Got error: \u001B[39;49m\u001B[38;5;132;43;01m{\u001B[39;49;00m\u001B[43me\u001B[49m\u001B[38;5;132;43;01m}\u001B[39;49;00m\u001B[38;5;124;43m'\u001B[39;49m\u001B[43m)\u001B[49m\u001B[43m,\u001B[49m\n\u001B[1;32m    391\u001B[0m \u001B[43m    \u001B[49m\u001B[43msleep_func\u001B[49m\u001B[38;5;241;43m=\u001B[39;49m\u001B[38;5;28;43mself\u001B[39;49m\u001B[38;5;241;43m.\u001B[39;49m\u001B[43mparams\u001B[49m\u001B[38;5;241;43m.\u001B[39;49m\u001B[43mget\u001B[49m\u001B[43m(\u001B[49m\u001B[38;5;124;43m'\u001B[39;49m\u001B[38;5;124;43mretry_sleep_functions\u001B[39;49m\u001B[38;5;124;43m'\u001B[39;49m\u001B[43m,\u001B[49m\u001B[43m \u001B[49m\u001B[43m{\u001B[49m\u001B[43m}\u001B[49m\u001B[43m)\u001B[49m\u001B[38;5;241;43m.\u001B[39;49m\u001B[43mget\u001B[49m\u001B[43m(\u001B[49m\u001B[43mis_frag\u001B[49m\u001B[43m \u001B[49m\u001B[38;5;129;43;01mor\u001B[39;49;00m\u001B[43m \u001B[49m\u001B[38;5;124;43m'\u001B[39;49m\u001B[38;5;124;43mhttp\u001B[39;49m\u001B[38;5;124;43m'\u001B[39;49m\u001B[43m)\u001B[49m\u001B[43m,\u001B[49m\n\u001B[1;32m    392\u001B[0m \u001B[43m    \u001B[49m\u001B[43msuffix\u001B[49m\u001B[38;5;241;43m=\u001B[39;49m\u001B[38;5;124;43mf\u001B[39;49m\u001B[38;5;124;43m'\u001B[39;49m\u001B[38;5;124;43mfragment\u001B[39;49m\u001B[38;5;132;43;01m{\u001B[39;49;00m\u001B[38;5;124;43m\"\u001B[39;49m\u001B[38;5;124;43ms\u001B[39;49m\u001B[38;5;124;43m\"\u001B[39;49m\u001B[43m \u001B[49m\u001B[38;5;28;43;01mif\u001B[39;49;00m\u001B[43m \u001B[49m\u001B[43mfrag_index\u001B[49m\u001B[43m \u001B[49m\u001B[38;5;129;43;01mis\u001B[39;49;00m\u001B[43m \u001B[49m\u001B[38;5;28;43;01mNone\u001B[39;49;00m\u001B[43m \u001B[49m\u001B[38;5;28;43;01melse\u001B[39;49;00m\u001B[43m \u001B[49m\u001B[38;5;124;43mf\u001B[39;49m\u001B[38;5;124;43m\"\u001B[39;49m\u001B[38;5;124;43m \u001B[39;49m\u001B[38;5;132;43;01m{\u001B[39;49;00m\u001B[43mfrag_index\u001B[49m\u001B[38;5;132;43;01m}\u001B[39;49;00m\u001B[38;5;124;43m\"\u001B[39;49m\u001B[38;5;132;43;01m}\u001B[39;49;00m\u001B[38;5;124;43m'\u001B[39;49m\u001B[43m \u001B[49m\u001B[38;5;28;43;01mif\u001B[39;49;00m\u001B[43m \u001B[49m\u001B[43mis_frag\u001B[49m\u001B[43m \u001B[49m\u001B[38;5;28;43;01melse\u001B[39;49;00m\u001B[43m \u001B[49m\u001B[38;5;28;43;01mNone\u001B[39;49;00m\u001B[43m)\u001B[49m\n",
      "File \u001B[0;32m~/miniconda3/envs/djmix/lib/python3.9/site-packages/yt_dlp/utils.py:5761\u001B[0m, in \u001B[0;36mRetryManager.report_retry\u001B[0;34m(e, count, retries, sleep_func, info, warn, error, suffix)\u001B[0m\n\u001B[1;32m   5759\u001B[0m \u001B[38;5;28;01mif\u001B[39;00m count \u001B[38;5;241m>\u001B[39m retries:\n\u001B[1;32m   5760\u001B[0m     \u001B[38;5;28;01mif\u001B[39;00m error:\n\u001B[0;32m-> 5761\u001B[0m         \u001B[38;5;28;01mreturn\u001B[39;00m error(\u001B[38;5;124mf\u001B[39m\u001B[38;5;124m'\u001B[39m\u001B[38;5;132;01m{\u001B[39;00me\u001B[38;5;132;01m}\u001B[39;00m\u001B[38;5;124m. Giving up after \u001B[39m\u001B[38;5;132;01m{\u001B[39;00mcount \u001B[38;5;241m-\u001B[39m \u001B[38;5;241m1\u001B[39m\u001B[38;5;132;01m}\u001B[39;00m\u001B[38;5;124m retries\u001B[39m\u001B[38;5;124m'\u001B[39m) \u001B[38;5;28;01mif\u001B[39;00m count \u001B[38;5;241m>\u001B[39m \u001B[38;5;241m1\u001B[39m \u001B[38;5;28;01melse\u001B[39;00m \u001B[43merror\u001B[49m\u001B[43m(\u001B[49m\u001B[38;5;28;43mstr\u001B[39;49m\u001B[43m(\u001B[49m\u001B[43me\u001B[49m\u001B[43m)\u001B[49m\u001B[43m)\u001B[49m\n\u001B[1;32m   5762\u001B[0m     \u001B[38;5;28;01mraise\u001B[39;00m e\n\u001B[1;32m   5764\u001B[0m \u001B[38;5;28;01mif\u001B[39;00m \u001B[38;5;129;01mnot\u001B[39;00m count:\n",
      "File \u001B[0;32m~/miniconda3/envs/djmix/lib/python3.9/site-packages/yt_dlp/downloader/common.py:390\u001B[0m, in \u001B[0;36mFileDownloader.report_retry.<locals>.<lambda>\u001B[0;34m(e)\u001B[0m\n\u001B[1;32m    385\u001B[0m \u001B[38;5;124;03m\"\"\"Report retry\"\"\"\u001B[39;00m\n\u001B[1;32m    386\u001B[0m is_frag \u001B[38;5;241m=\u001B[39m \u001B[38;5;28;01mFalse\u001B[39;00m \u001B[38;5;28;01mif\u001B[39;00m frag_index \u001B[38;5;129;01mis\u001B[39;00m NO_DEFAULT \u001B[38;5;28;01melse\u001B[39;00m \u001B[38;5;124m'\u001B[39m\u001B[38;5;124mfragment\u001B[39m\u001B[38;5;124m'\u001B[39m\n\u001B[1;32m    387\u001B[0m RetryManager\u001B[38;5;241m.\u001B[39mreport_retry(\n\u001B[1;32m    388\u001B[0m     err, count, retries, info\u001B[38;5;241m=\u001B[39m\u001B[38;5;28mself\u001B[39m\u001B[38;5;241m.\u001B[39m__to_screen,\n\u001B[1;32m    389\u001B[0m     warn\u001B[38;5;241m=\u001B[39m\u001B[38;5;28;01mlambda\u001B[39;00m msg: \u001B[38;5;28mself\u001B[39m\u001B[38;5;241m.\u001B[39m__to_screen(\u001B[38;5;124mf\u001B[39m\u001B[38;5;124m'\u001B[39m\u001B[38;5;124m[download] Got error: \u001B[39m\u001B[38;5;132;01m{\u001B[39;00mmsg\u001B[38;5;132;01m}\u001B[39;00m\u001B[38;5;124m'\u001B[39m),\n\u001B[0;32m--> 390\u001B[0m     error\u001B[38;5;241m=\u001B[39mIDENTITY \u001B[38;5;28;01mif\u001B[39;00m \u001B[38;5;129;01mnot\u001B[39;00m fatal \u001B[38;5;28;01melse\u001B[39;00m \u001B[38;5;28;01mlambda\u001B[39;00m e: \u001B[38;5;28;43mself\u001B[39;49m\u001B[38;5;241;43m.\u001B[39;49m\u001B[43mreport_error\u001B[49m\u001B[43m(\u001B[49m\u001B[38;5;124;43mf\u001B[39;49m\u001B[38;5;124;43m'\u001B[39;49m\u001B[38;5;130;43;01m\\r\u001B[39;49;00m\u001B[38;5;124;43m[download] Got error: \u001B[39;49m\u001B[38;5;132;43;01m{\u001B[39;49;00m\u001B[43me\u001B[49m\u001B[38;5;132;43;01m}\u001B[39;49;00m\u001B[38;5;124;43m'\u001B[39;49m\u001B[43m)\u001B[49m,\n\u001B[1;32m    391\u001B[0m     sleep_func\u001B[38;5;241m=\u001B[39m\u001B[38;5;28mself\u001B[39m\u001B[38;5;241m.\u001B[39mparams\u001B[38;5;241m.\u001B[39mget(\u001B[38;5;124m'\u001B[39m\u001B[38;5;124mretry_sleep_functions\u001B[39m\u001B[38;5;124m'\u001B[39m, {})\u001B[38;5;241m.\u001B[39mget(is_frag \u001B[38;5;129;01mor\u001B[39;00m \u001B[38;5;124m'\u001B[39m\u001B[38;5;124mhttp\u001B[39m\u001B[38;5;124m'\u001B[39m),\n\u001B[1;32m    392\u001B[0m     suffix\u001B[38;5;241m=\u001B[39m\u001B[38;5;124mf\u001B[39m\u001B[38;5;124m'\u001B[39m\u001B[38;5;124mfragment\u001B[39m\u001B[38;5;132;01m{\u001B[39;00m\u001B[38;5;124m\"\u001B[39m\u001B[38;5;124ms\u001B[39m\u001B[38;5;124m\"\u001B[39m \u001B[38;5;28;01mif\u001B[39;00m frag_index \u001B[38;5;129;01mis\u001B[39;00m \u001B[38;5;28;01mNone\u001B[39;00m \u001B[38;5;28;01melse\u001B[39;00m \u001B[38;5;124mf\u001B[39m\u001B[38;5;124m\"\u001B[39m\u001B[38;5;124m \u001B[39m\u001B[38;5;132;01m{\u001B[39;00mfrag_index\u001B[38;5;132;01m}\u001B[39;00m\u001B[38;5;124m\"\u001B[39m\u001B[38;5;132;01m}\u001B[39;00m\u001B[38;5;124m'\u001B[39m \u001B[38;5;28;01mif\u001B[39;00m is_frag \u001B[38;5;28;01melse\u001B[39;00m \u001B[38;5;28;01mNone\u001B[39;00m)\n",
      "File \u001B[0;32m~/miniconda3/envs/djmix/lib/python3.9/site-packages/yt_dlp/YoutubeDL.py:979\u001B[0m, in \u001B[0;36mYoutubeDL.report_error\u001B[0;34m(self, message, *args, **kwargs)\u001B[0m\n\u001B[1;32m    974\u001B[0m \u001B[38;5;28;01mdef\u001B[39;00m \u001B[38;5;21mreport_error\u001B[39m(\u001B[38;5;28mself\u001B[39m, message, \u001B[38;5;241m*\u001B[39margs, \u001B[38;5;241m*\u001B[39m\u001B[38;5;241m*\u001B[39mkwargs):\n\u001B[1;32m    975\u001B[0m     \u001B[38;5;124;03m'''\u001B[39;00m\n\u001B[1;32m    976\u001B[0m \u001B[38;5;124;03m    Do the same as trouble, but prefixes the message with 'ERROR:', colored\u001B[39;00m\n\u001B[1;32m    977\u001B[0m \u001B[38;5;124;03m    in red if stderr is a tty file.\u001B[39;00m\n\u001B[1;32m    978\u001B[0m \u001B[38;5;124;03m    '''\u001B[39;00m\n\u001B[0;32m--> 979\u001B[0m     \u001B[38;5;28;43mself\u001B[39;49m\u001B[38;5;241;43m.\u001B[39;49m\u001B[43mtrouble\u001B[49m\u001B[43m(\u001B[49m\u001B[38;5;124;43mf\u001B[39;49m\u001B[38;5;124;43m'\u001B[39;49m\u001B[38;5;132;43;01m{\u001B[39;49;00m\u001B[38;5;28;43mself\u001B[39;49m\u001B[38;5;241;43m.\u001B[39;49m\u001B[43m_format_err\u001B[49m\u001B[43m(\u001B[49m\u001B[38;5;124;43m\"\u001B[39;49m\u001B[38;5;124;43mERROR:\u001B[39;49m\u001B[38;5;124;43m\"\u001B[39;49m\u001B[43m,\u001B[49m\u001B[43m \u001B[49m\u001B[38;5;28;43mself\u001B[39;49m\u001B[38;5;241;43m.\u001B[39;49m\u001B[43mStyles\u001B[49m\u001B[38;5;241;43m.\u001B[39;49m\u001B[43mERROR\u001B[49m\u001B[43m)\u001B[49m\u001B[38;5;132;43;01m}\u001B[39;49;00m\u001B[38;5;124;43m \u001B[39;49m\u001B[38;5;132;43;01m{\u001B[39;49;00m\u001B[43mmessage\u001B[49m\u001B[38;5;132;43;01m}\u001B[39;49;00m\u001B[38;5;124;43m'\u001B[39;49m\u001B[43m,\u001B[49m\u001B[43m \u001B[49m\u001B[38;5;241;43m*\u001B[39;49m\u001B[43margs\u001B[49m\u001B[43m,\u001B[49m\u001B[43m \u001B[49m\u001B[38;5;241;43m*\u001B[39;49m\u001B[38;5;241;43m*\u001B[39;49m\u001B[43mkwargs\u001B[49m\u001B[43m)\u001B[49m\n",
      "File \u001B[0;32m~/miniconda3/envs/djmix/lib/python3.9/site-packages/yt_dlp/YoutubeDL.py:922\u001B[0m, in \u001B[0;36mYoutubeDL.trouble\u001B[0;34m(self, message, tb, is_error)\u001B[0m\n\u001B[1;32m    920\u001B[0m     \u001B[38;5;28;01melse\u001B[39;00m:\n\u001B[1;32m    921\u001B[0m         exc_info \u001B[38;5;241m=\u001B[39m sys\u001B[38;5;241m.\u001B[39mexc_info()\n\u001B[0;32m--> 922\u001B[0m     \u001B[38;5;28;01mraise\u001B[39;00m DownloadError(message, exc_info)\n\u001B[1;32m    923\u001B[0m \u001B[38;5;28mself\u001B[39m\u001B[38;5;241m.\u001B[39m_download_retcode \u001B[38;5;241m=\u001B[39m \u001B[38;5;241m1\u001B[39m\n",
      "\u001B[0;31mDownloadError\u001B[0m: ERROR: \r[download] Got error: The read operation timed out"
     ]
    }
   ],
   "source": [
    "mix.download()"
   ],
   "metadata": {
    "collapsed": false,
    "pycharm": {
     "name": "#%%\n"
    }
   }
  },
  {
   "cell_type": "code",
   "execution_count": 4,
   "outputs": [
    {
     "data": {
      "text/plain": "Track(id=vFA_N5FCXtM, title=\"Jason Fernandes - Let's Do This\")"
     },
     "execution_count": 4,
     "metadata": {},
     "output_type": "execute_result"
    }
   ],
   "source": [
    "track = mix.tracklist[0]\n",
    "track"
   ],
   "metadata": {
    "collapsed": false,
    "pycharm": {
     "name": "#%%\n"
    }
   }
  },
  {
   "cell_type": "code",
   "execution_count": 5,
   "outputs": [
    {
     "data": {
      "text/plain": "      mix_id     track_id       case_name     feature  metric  key_change  \\\n0    mix4010  vFA_N5FCXtM  all_scaled_cos  all_scaled  cosine           0   \n1    mix4010  vFA_N5FCXtM  all_scaled_cos  all_scaled  cosine           1   \n2    mix4010  vFA_N5FCXtM  all_scaled_cos  all_scaled  cosine           2   \n3    mix4010  vFA_N5FCXtM  all_scaled_cos  all_scaled  cosine           3   \n4    mix4010  vFA_N5FCXtM  all_scaled_cos  all_scaled  cosine           4   \n..       ...          ...             ...         ...     ...         ...   \n139  mix4010  NgjAOBkW5wo  all_scaled_cos  all_scaled  cosine           7   \n140  mix4010  NgjAOBkW5wo  all_scaled_cos  all_scaled  cosine           8   \n141  mix4010  NgjAOBkW5wo  all_scaled_cos  all_scaled  cosine           9   \n142  mix4010  NgjAOBkW5wo  all_scaled_cos  all_scaled  cosine          10   \n143  mix4010  NgjAOBkW5wo  all_scaled_cos  all_scaled  cosine          11   \n\n     match_rate  match_rate_raw  matched_beats  matched_beats_raw  ...  \\\n0      0.253901        0.384397            179                271  ...   \n1      0.270922        0.353191            191                249  ...   \n2      0.000000        0.112057              0                 79  ...   \n3      0.039716        0.127660             28                 90  ...   \n4      0.049645        0.167376             35                118  ...   \n..          ...             ...            ...                ...  ...   \n139    0.170264        0.275779            142                230  ...   \n140    0.163070        0.462830            136                386  ...   \n141    0.079137        0.316547             66                264  ...   \n142    0.034772        0.249400             29                208  ...   \n143    0.028777        0.183453             24                153  ...   \n\n     mix_cue_out_beat  track_cue_in_beat  track_cue_out_beat  mix_cue_in_time  \\\n0               295.0              397.0               576.0            64.70   \n1               334.0              425.0               616.0            76.99   \n2                 NaN                NaN                 NaN              NaN   \n3               380.0              588.0               616.0           170.05   \n4              1014.0              179.0               214.0           464.85   \n..                ...                ...                 ...              ...   \n139            7576.0              207.0               348.0          3519.66   \n140            2693.0               89.0               225.0          1214.61   \n141            6181.0              495.0               561.0          2893.67   \n142            6181.0              531.0               559.0          2909.26   \n143            7595.0              624.0               647.0          3579.64   \n\n     mix_cue_out_time  track_cue_in_time  track_cue_out_time      cost  \\\n0              141.24             189.10              274.34  0.584074   \n1              159.65             202.43              293.38  0.580410   \n2                 NaN                NaN                 NaN  0.586672   \n3              181.39             280.05              293.38  0.604532   \n4              480.93              85.30              101.95  0.626655   \n..                ...                ...                 ...       ...   \n139           3581.06              99.44              167.12  0.709087   \n140           1274.62              42.80              108.08  0.687747   \n141           2922.02             237.68              269.36  0.671277   \n142           2922.02             254.96              268.40  0.661872   \n143           3590.03             299.60              310.64  0.649338   \n\n                                                    wp  \\\n0    [[1152, 591], [1149, 590], [1146, 589], [1145,...   \n1    [[1233, 669], [1232, 668], [1231, 667], [1230,...   \n2                                                 None   \n3    [[1232, 760], [1229, 759], [1227, 758], [1225,...   \n4    [[428, 2029], [427, 2028], [426, 2027], [425, ...   \n..                                                 ...   \n139  [[697, 15152], [696, 15151], [694, 15150], [69...   \n140  [[451, 5386], [450, 5385], [448, 5384], [447, ...   \n141  [[1122, 12363], [1121, 12362], [1119, 12361], ...   \n142  [[1119, 12363], [1118, 12362], [1117, 12361], ...   \n143  [[1295, 15190], [1294, 15189], [1293, 15188], ...   \n\n                                                wp_raw  \n0    [[1407, 657], [1406, 656], [1405, 655], [1404,...  \n1    [[1407, 769], [1406, 769], [1405, 769], [1404,...  \n2    [[1407, 12207], [1406, 12206], [1405, 12205], ...  \n3    [[1407, 777], [1406, 777], [1405, 777], [1404,...  \n4    [[1407, 2137], [1406, 2136], [1405, 2135], [14...  \n..                                                 ...  \n139  [[1665, 15216], [1664, 15216], [1663, 15216], ...  \n140  [[1665, 5872], [1664, 5872], [1663, 5872], [16...  \n141  [[1665, 12544], [1664, 12544], [1663, 12544], ...  \n142  [[1665, 12464], [1664, 12464], [1663, 12464], ...  \n143  [[1665, 15216], [1664, 15216], [1663, 15216], ...  \n\n[144 rows x 23 columns]",
      "text/html": "<div>\n<style scoped>\n    .dataframe tbody tr th:only-of-type {\n        vertical-align: middle;\n    }\n\n    .dataframe tbody tr th {\n        vertical-align: top;\n    }\n\n    .dataframe thead th {\n        text-align: right;\n    }\n</style>\n<table border=\"1\" class=\"dataframe\">\n  <thead>\n    <tr style=\"text-align: right;\">\n      <th></th>\n      <th>mix_id</th>\n      <th>track_id</th>\n      <th>case_name</th>\n      <th>feature</th>\n      <th>metric</th>\n      <th>key_change</th>\n      <th>match_rate</th>\n      <th>match_rate_raw</th>\n      <th>matched_beats</th>\n      <th>matched_beats_raw</th>\n      <th>...</th>\n      <th>mix_cue_out_beat</th>\n      <th>track_cue_in_beat</th>\n      <th>track_cue_out_beat</th>\n      <th>mix_cue_in_time</th>\n      <th>mix_cue_out_time</th>\n      <th>track_cue_in_time</th>\n      <th>track_cue_out_time</th>\n      <th>cost</th>\n      <th>wp</th>\n      <th>wp_raw</th>\n    </tr>\n  </thead>\n  <tbody>\n    <tr>\n      <th>0</th>\n      <td>mix4010</td>\n      <td>vFA_N5FCXtM</td>\n      <td>all_scaled_cos</td>\n      <td>all_scaled</td>\n      <td>cosine</td>\n      <td>0</td>\n      <td>0.253901</td>\n      <td>0.384397</td>\n      <td>179</td>\n      <td>271</td>\n      <td>...</td>\n      <td>295.0</td>\n      <td>397.0</td>\n      <td>576.0</td>\n      <td>64.70</td>\n      <td>141.24</td>\n      <td>189.10</td>\n      <td>274.34</td>\n      <td>0.584074</td>\n      <td>[[1152, 591], [1149, 590], [1146, 589], [1145,...</td>\n      <td>[[1407, 657], [1406, 656], [1405, 655], [1404,...</td>\n    </tr>\n    <tr>\n      <th>1</th>\n      <td>mix4010</td>\n      <td>vFA_N5FCXtM</td>\n      <td>all_scaled_cos</td>\n      <td>all_scaled</td>\n      <td>cosine</td>\n      <td>1</td>\n      <td>0.270922</td>\n      <td>0.353191</td>\n      <td>191</td>\n      <td>249</td>\n      <td>...</td>\n      <td>334.0</td>\n      <td>425.0</td>\n      <td>616.0</td>\n      <td>76.99</td>\n      <td>159.65</td>\n      <td>202.43</td>\n      <td>293.38</td>\n      <td>0.580410</td>\n      <td>[[1233, 669], [1232, 668], [1231, 667], [1230,...</td>\n      <td>[[1407, 769], [1406, 769], [1405, 769], [1404,...</td>\n    </tr>\n    <tr>\n      <th>2</th>\n      <td>mix4010</td>\n      <td>vFA_N5FCXtM</td>\n      <td>all_scaled_cos</td>\n      <td>all_scaled</td>\n      <td>cosine</td>\n      <td>2</td>\n      <td>0.000000</td>\n      <td>0.112057</td>\n      <td>0</td>\n      <td>79</td>\n      <td>...</td>\n      <td>NaN</td>\n      <td>NaN</td>\n      <td>NaN</td>\n      <td>NaN</td>\n      <td>NaN</td>\n      <td>NaN</td>\n      <td>NaN</td>\n      <td>0.586672</td>\n      <td>None</td>\n      <td>[[1407, 12207], [1406, 12206], [1405, 12205], ...</td>\n    </tr>\n    <tr>\n      <th>3</th>\n      <td>mix4010</td>\n      <td>vFA_N5FCXtM</td>\n      <td>all_scaled_cos</td>\n      <td>all_scaled</td>\n      <td>cosine</td>\n      <td>3</td>\n      <td>0.039716</td>\n      <td>0.127660</td>\n      <td>28</td>\n      <td>90</td>\n      <td>...</td>\n      <td>380.0</td>\n      <td>588.0</td>\n      <td>616.0</td>\n      <td>170.05</td>\n      <td>181.39</td>\n      <td>280.05</td>\n      <td>293.38</td>\n      <td>0.604532</td>\n      <td>[[1232, 760], [1229, 759], [1227, 758], [1225,...</td>\n      <td>[[1407, 777], [1406, 777], [1405, 777], [1404,...</td>\n    </tr>\n    <tr>\n      <th>4</th>\n      <td>mix4010</td>\n      <td>vFA_N5FCXtM</td>\n      <td>all_scaled_cos</td>\n      <td>all_scaled</td>\n      <td>cosine</td>\n      <td>4</td>\n      <td>0.049645</td>\n      <td>0.167376</td>\n      <td>35</td>\n      <td>118</td>\n      <td>...</td>\n      <td>1014.0</td>\n      <td>179.0</td>\n      <td>214.0</td>\n      <td>464.85</td>\n      <td>480.93</td>\n      <td>85.30</td>\n      <td>101.95</td>\n      <td>0.626655</td>\n      <td>[[428, 2029], [427, 2028], [426, 2027], [425, ...</td>\n      <td>[[1407, 2137], [1406, 2136], [1405, 2135], [14...</td>\n    </tr>\n    <tr>\n      <th>...</th>\n      <td>...</td>\n      <td>...</td>\n      <td>...</td>\n      <td>...</td>\n      <td>...</td>\n      <td>...</td>\n      <td>...</td>\n      <td>...</td>\n      <td>...</td>\n      <td>...</td>\n      <td>...</td>\n      <td>...</td>\n      <td>...</td>\n      <td>...</td>\n      <td>...</td>\n      <td>...</td>\n      <td>...</td>\n      <td>...</td>\n      <td>...</td>\n      <td>...</td>\n      <td>...</td>\n    </tr>\n    <tr>\n      <th>139</th>\n      <td>mix4010</td>\n      <td>NgjAOBkW5wo</td>\n      <td>all_scaled_cos</td>\n      <td>all_scaled</td>\n      <td>cosine</td>\n      <td>7</td>\n      <td>0.170264</td>\n      <td>0.275779</td>\n      <td>142</td>\n      <td>230</td>\n      <td>...</td>\n      <td>7576.0</td>\n      <td>207.0</td>\n      <td>348.0</td>\n      <td>3519.66</td>\n      <td>3581.06</td>\n      <td>99.44</td>\n      <td>167.12</td>\n      <td>0.709087</td>\n      <td>[[697, 15152], [696, 15151], [694, 15150], [69...</td>\n      <td>[[1665, 15216], [1664, 15216], [1663, 15216], ...</td>\n    </tr>\n    <tr>\n      <th>140</th>\n      <td>mix4010</td>\n      <td>NgjAOBkW5wo</td>\n      <td>all_scaled_cos</td>\n      <td>all_scaled</td>\n      <td>cosine</td>\n      <td>8</td>\n      <td>0.163070</td>\n      <td>0.462830</td>\n      <td>136</td>\n      <td>386</td>\n      <td>...</td>\n      <td>2693.0</td>\n      <td>89.0</td>\n      <td>225.0</td>\n      <td>1214.61</td>\n      <td>1274.62</td>\n      <td>42.80</td>\n      <td>108.08</td>\n      <td>0.687747</td>\n      <td>[[451, 5386], [450, 5385], [448, 5384], [447, ...</td>\n      <td>[[1665, 5872], [1664, 5872], [1663, 5872], [16...</td>\n    </tr>\n    <tr>\n      <th>141</th>\n      <td>mix4010</td>\n      <td>NgjAOBkW5wo</td>\n      <td>all_scaled_cos</td>\n      <td>all_scaled</td>\n      <td>cosine</td>\n      <td>9</td>\n      <td>0.079137</td>\n      <td>0.316547</td>\n      <td>66</td>\n      <td>264</td>\n      <td>...</td>\n      <td>6181.0</td>\n      <td>495.0</td>\n      <td>561.0</td>\n      <td>2893.67</td>\n      <td>2922.02</td>\n      <td>237.68</td>\n      <td>269.36</td>\n      <td>0.671277</td>\n      <td>[[1122, 12363], [1121, 12362], [1119, 12361], ...</td>\n      <td>[[1665, 12544], [1664, 12544], [1663, 12544], ...</td>\n    </tr>\n    <tr>\n      <th>142</th>\n      <td>mix4010</td>\n      <td>NgjAOBkW5wo</td>\n      <td>all_scaled_cos</td>\n      <td>all_scaled</td>\n      <td>cosine</td>\n      <td>10</td>\n      <td>0.034772</td>\n      <td>0.249400</td>\n      <td>29</td>\n      <td>208</td>\n      <td>...</td>\n      <td>6181.0</td>\n      <td>531.0</td>\n      <td>559.0</td>\n      <td>2909.26</td>\n      <td>2922.02</td>\n      <td>254.96</td>\n      <td>268.40</td>\n      <td>0.661872</td>\n      <td>[[1119, 12363], [1118, 12362], [1117, 12361], ...</td>\n      <td>[[1665, 12464], [1664, 12464], [1663, 12464], ...</td>\n    </tr>\n    <tr>\n      <th>143</th>\n      <td>mix4010</td>\n      <td>NgjAOBkW5wo</td>\n      <td>all_scaled_cos</td>\n      <td>all_scaled</td>\n      <td>cosine</td>\n      <td>11</td>\n      <td>0.028777</td>\n      <td>0.183453</td>\n      <td>24</td>\n      <td>153</td>\n      <td>...</td>\n      <td>7595.0</td>\n      <td>624.0</td>\n      <td>647.0</td>\n      <td>3579.64</td>\n      <td>3590.03</td>\n      <td>299.60</td>\n      <td>310.64</td>\n      <td>0.649338</td>\n      <td>[[1295, 15190], [1294, 15189], [1293, 15188], ...</td>\n      <td>[[1665, 15216], [1664, 15216], [1663, 15216], ...</td>\n    </tr>\n  </tbody>\n</table>\n<p>144 rows × 23 columns</p>\n</div>"
     },
     "execution_count": 5,
     "metadata": {},
     "output_type": "execute_result"
    }
   ],
   "source": [
    "mix.align()"
   ],
   "metadata": {
    "collapsed": false,
    "pycharm": {
     "name": "#%%\n"
    }
   }
  },
  {
   "cell_type": "code",
   "execution_count": 6,
   "outputs": [
    {
     "data": {
      "text/plain": "             mix_id  i_tran  i_track_prev  i_track_next track_id_prev  \\\n_id                                                                     \nmix4010-00  mix4010       0             0             1   vFA_N5FCXtM   \nmix4010-01  mix4010       1             1             2   2KrJ1b4kJ0s   \nmix4010-05  mix4010       5             5             6   CcBpjGpy7ZQ   \nmix4010-06  mix4010       6             6             7   0pPtISWO7G0   \nmix4010-07  mix4010       7             7             8   inTAEYqTzNw   \nmix4010-08  mix4010       8             8             9   aXa6JI0gRWI   \nmix4010-09  mix4010       9             9            10   xihvDwPB2Q8   \nmix4010-12  mix4010      12            12            13   Qv9ZDlRlf6Y   \nmix4010-13  mix4010      13            13            14   9rR7EFBL30w   \n\n           track_id_next  match_rate_prev  match_rate_next  \\\n_id                                                          \nmix4010-00   2KrJ1b4kJ0s         0.270922         0.448391   \nmix4010-01   y8vn7zV4t6M         0.448391         0.680798   \nmix4010-05   0pPtISWO7G0         0.581365         0.476019   \nmix4010-06   inTAEYqTzNw         0.476019         0.717419   \nmix4010-07   aXa6JI0gRWI         0.717419         0.584169   \nmix4010-08   xihvDwPB2Q8         0.584169         0.457933   \nmix4010-09   OTpLMfG-gUo         0.457933         0.466667   \nmix4010-12   9rR7EFBL30w         0.562842         0.577523   \nmix4010-13   NgjAOBkW5wo         0.577523         0.171463   \n\n            matched_beats_prev  matched_beats_next  ...  \\\n_id                                                 ...   \nmix4010-00                 191                 404  ...   \nmix4010-01                 404                 546  ...   \nmix4010-05                 443                 397  ...   \nmix4010-06                 397                 556  ...   \nmix4010-07                 556                 524  ...   \nmix4010-08                 524                 381  ...   \nmix4010-09                 381                 329  ...   \nmix4010-12                 412                 555  ...   \nmix4010-13                 555                 143  ...   \n\n            track_cue_in_time_prev  track_cue_in_time_next  \\\n_id                                                          \nmix4010-00                  202.43                  122.07   \nmix4010-01                  122.07                   81.37   \nmix4010-05                  142.16                  135.24   \nmix4010-06                  135.24                   39.57   \nmix4010-07                   39.57                  112.92   \nmix4010-08                  112.92                  120.99   \nmix4010-09                  120.99                  126.85   \nmix4010-12                  115.75                   52.59   \nmix4010-13                   52.59                   99.44   \n\n            track_cue_out_time_prev  track_cue_out_time_next  cost_prev  \\\n_id                                                                       \nmix4010-00                   293.38                   313.02   0.580410   \nmix4010-01                   313.02                   345.08   0.607284   \nmix4010-05                   354.32                   325.80   0.549123   \nmix4010-06                   325.80                   304.34   0.531136   \nmix4010-07                   304.34                   362.45   0.606186   \nmix4010-08                   362.45                   299.57   0.625625   \nmix4010-09                   299.57                   285.56   0.663152   \nmix4010-12                   311.47                   312.74   0.674211   \nmix4010-13                   312.74                   168.08   0.605554   \n\n            cost_next                                            wp_prev  \\\n_id                                                                        \nmix4010-00   0.607284  [[1233, 669], [1232, 668], [1231, 667], [1230,...   \nmix4010-01   0.504159  [[1319, 1512], [1318, 1511], [1317, 1510], [13...   \nmix4010-05   0.531136  [[1477, 6973], [1476, 6972], [1475, 6971], [14...   \nmix4010-06   0.606186  [[1354, 7884], [1353, 7883], [1352, 7882], [13...   \nmix4010-07   0.625625  [[1279, 8903], [1278, 8902], [1277, 8901], [12...   \nmix4010-08   0.663152  [[1523, 10151], [1522, 10150], [1521, 10149], ...   \nmix4010-09   0.478269  [[1279, 10951], [1278, 10950], [1277, 10949], ...   \nmix4010-12   0.605554  [[1309, 14115], [1308, 14114], [1307, 14113], ...   \nmix4010-13   0.711321  [[1334, 14878], [1331, 14877], [1330, 14876], ...   \n\n                                                      wp_next  \\\n_id                                                             \nmix4010-00  [[1319, 1512], [1318, 1511], [1317, 1510], [13...   \nmix4010-01  [[1427, 2639], [1426, 2638], [1425, 2637], [14...   \nmix4010-05  [[1354, 7884], [1353, 7883], [1352, 7882], [13...   \nmix4010-06  [[1279, 8903], [1278, 8902], [1277, 8901], [12...   \nmix4010-07  [[1523, 10151], [1522, 10150], [1521, 10149], ...   \nmix4010-08  [[1279, 10951], [1278, 10950], [1277, 10949], ...   \nmix4010-09  [[1181, 11757], [1180, 11756], [1179, 11755], ...   \nmix4010-12  [[1334, 14878], [1331, 14877], [1330, 14876], ...   \nmix4010-13  [[700, 15153], [697, 15152], [696, 15151], [69...   \n\n                                                  wp_raw_prev  \\\n_id                                                             \nmix4010-00  [[1407, 769], [1406, 769], [1405, 769], [1404,...   \nmix4010-01  [[1799, 1625], [1798, 1625], [1797, 1625], [17...   \nmix4010-05  [[1521, 6982], [1520, 6982], [1519, 6982], [15...   \nmix4010-06  [[1665, 7916], [1664, 7916], [1663, 7916], [16...   \nmix4010-07  [[1547, 9003], [1546, 9003], [1545, 9003], [15...   \nmix4010-08  [[1791, 10158], [1790, 10158], [1789, 10158], ...   \nmix4010-09  [[1661, 11109], [1660, 11109], [1659, 11108], ...   \nmix4010-12  [[1461, 14124], [1460, 14124], [1459, 14124], ...   \nmix4010-13  [[1919, 15214], [1918, 15214], [1917, 15214], ...   \n\n                                                  wp_raw_next  \n_id                                                            \nmix4010-00  [[1799, 1625], [1798, 1625], [1797, 1625], [17...  \nmix4010-01  [[1601, 2649], [1600, 2649], [1599, 2649], [15...  \nmix4010-05  [[1665, 7916], [1664, 7916], [1663, 7916], [16...  \nmix4010-06  [[1547, 9003], [1546, 9003], [1545, 9003], [15...  \nmix4010-07  [[1791, 10158], [1790, 10158], [1789, 10158], ...  \nmix4010-08  [[1661, 11109], [1660, 11109], [1659, 11108], ...  \nmix4010-09  [[1407, 11815], [1406, 11815], [1405, 11815], ...  \nmix4010-12  [[1919, 15214], [1918, 15214], [1917, 15214], ...  \nmix4010-13  [[1665, 15216], [1664, 15216], [1663, 15216], ...  \n\n[9 rows x 55 columns]",
      "text/html": "<div>\n<style scoped>\n    .dataframe tbody tr th:only-of-type {\n        vertical-align: middle;\n    }\n\n    .dataframe tbody tr th {\n        vertical-align: top;\n    }\n\n    .dataframe thead th {\n        text-align: right;\n    }\n</style>\n<table border=\"1\" class=\"dataframe\">\n  <thead>\n    <tr style=\"text-align: right;\">\n      <th></th>\n      <th>mix_id</th>\n      <th>i_tran</th>\n      <th>i_track_prev</th>\n      <th>i_track_next</th>\n      <th>track_id_prev</th>\n      <th>track_id_next</th>\n      <th>match_rate_prev</th>\n      <th>match_rate_next</th>\n      <th>matched_beats_prev</th>\n      <th>matched_beats_next</th>\n      <th>...</th>\n      <th>track_cue_in_time_prev</th>\n      <th>track_cue_in_time_next</th>\n      <th>track_cue_out_time_prev</th>\n      <th>track_cue_out_time_next</th>\n      <th>cost_prev</th>\n      <th>cost_next</th>\n      <th>wp_prev</th>\n      <th>wp_next</th>\n      <th>wp_raw_prev</th>\n      <th>wp_raw_next</th>\n    </tr>\n    <tr>\n      <th>_id</th>\n      <th></th>\n      <th></th>\n      <th></th>\n      <th></th>\n      <th></th>\n      <th></th>\n      <th></th>\n      <th></th>\n      <th></th>\n      <th></th>\n      <th></th>\n      <th></th>\n      <th></th>\n      <th></th>\n      <th></th>\n      <th></th>\n      <th></th>\n      <th></th>\n      <th></th>\n      <th></th>\n      <th></th>\n    </tr>\n  </thead>\n  <tbody>\n    <tr>\n      <th>mix4010-00</th>\n      <td>mix4010</td>\n      <td>0</td>\n      <td>0</td>\n      <td>1</td>\n      <td>vFA_N5FCXtM</td>\n      <td>2KrJ1b4kJ0s</td>\n      <td>0.270922</td>\n      <td>0.448391</td>\n      <td>191</td>\n      <td>404</td>\n      <td>...</td>\n      <td>202.43</td>\n      <td>122.07</td>\n      <td>293.38</td>\n      <td>313.02</td>\n      <td>0.580410</td>\n      <td>0.607284</td>\n      <td>[[1233, 669], [1232, 668], [1231, 667], [1230,...</td>\n      <td>[[1319, 1512], [1318, 1511], [1317, 1510], [13...</td>\n      <td>[[1407, 769], [1406, 769], [1405, 769], [1404,...</td>\n      <td>[[1799, 1625], [1798, 1625], [1797, 1625], [17...</td>\n    </tr>\n    <tr>\n      <th>mix4010-01</th>\n      <td>mix4010</td>\n      <td>1</td>\n      <td>1</td>\n      <td>2</td>\n      <td>2KrJ1b4kJ0s</td>\n      <td>y8vn7zV4t6M</td>\n      <td>0.448391</td>\n      <td>0.680798</td>\n      <td>404</td>\n      <td>546</td>\n      <td>...</td>\n      <td>122.07</td>\n      <td>81.37</td>\n      <td>313.02</td>\n      <td>345.08</td>\n      <td>0.607284</td>\n      <td>0.504159</td>\n      <td>[[1319, 1512], [1318, 1511], [1317, 1510], [13...</td>\n      <td>[[1427, 2639], [1426, 2638], [1425, 2637], [14...</td>\n      <td>[[1799, 1625], [1798, 1625], [1797, 1625], [17...</td>\n      <td>[[1601, 2649], [1600, 2649], [1599, 2649], [15...</td>\n    </tr>\n    <tr>\n      <th>mix4010-05</th>\n      <td>mix4010</td>\n      <td>5</td>\n      <td>5</td>\n      <td>6</td>\n      <td>CcBpjGpy7ZQ</td>\n      <td>0pPtISWO7G0</td>\n      <td>0.581365</td>\n      <td>0.476019</td>\n      <td>443</td>\n      <td>397</td>\n      <td>...</td>\n      <td>142.16</td>\n      <td>135.24</td>\n      <td>354.32</td>\n      <td>325.80</td>\n      <td>0.549123</td>\n      <td>0.531136</td>\n      <td>[[1477, 6973], [1476, 6972], [1475, 6971], [14...</td>\n      <td>[[1354, 7884], [1353, 7883], [1352, 7882], [13...</td>\n      <td>[[1521, 6982], [1520, 6982], [1519, 6982], [15...</td>\n      <td>[[1665, 7916], [1664, 7916], [1663, 7916], [16...</td>\n    </tr>\n    <tr>\n      <th>mix4010-06</th>\n      <td>mix4010</td>\n      <td>6</td>\n      <td>6</td>\n      <td>7</td>\n      <td>0pPtISWO7G0</td>\n      <td>inTAEYqTzNw</td>\n      <td>0.476019</td>\n      <td>0.717419</td>\n      <td>397</td>\n      <td>556</td>\n      <td>...</td>\n      <td>135.24</td>\n      <td>39.57</td>\n      <td>325.80</td>\n      <td>304.34</td>\n      <td>0.531136</td>\n      <td>0.606186</td>\n      <td>[[1354, 7884], [1353, 7883], [1352, 7882], [13...</td>\n      <td>[[1279, 8903], [1278, 8902], [1277, 8901], [12...</td>\n      <td>[[1665, 7916], [1664, 7916], [1663, 7916], [16...</td>\n      <td>[[1547, 9003], [1546, 9003], [1545, 9003], [15...</td>\n    </tr>\n    <tr>\n      <th>mix4010-07</th>\n      <td>mix4010</td>\n      <td>7</td>\n      <td>7</td>\n      <td>8</td>\n      <td>inTAEYqTzNw</td>\n      <td>aXa6JI0gRWI</td>\n      <td>0.717419</td>\n      <td>0.584169</td>\n      <td>556</td>\n      <td>524</td>\n      <td>...</td>\n      <td>39.57</td>\n      <td>112.92</td>\n      <td>304.34</td>\n      <td>362.45</td>\n      <td>0.606186</td>\n      <td>0.625625</td>\n      <td>[[1279, 8903], [1278, 8902], [1277, 8901], [12...</td>\n      <td>[[1523, 10151], [1522, 10150], [1521, 10149], ...</td>\n      <td>[[1547, 9003], [1546, 9003], [1545, 9003], [15...</td>\n      <td>[[1791, 10158], [1790, 10158], [1789, 10158], ...</td>\n    </tr>\n    <tr>\n      <th>mix4010-08</th>\n      <td>mix4010</td>\n      <td>8</td>\n      <td>8</td>\n      <td>9</td>\n      <td>aXa6JI0gRWI</td>\n      <td>xihvDwPB2Q8</td>\n      <td>0.584169</td>\n      <td>0.457933</td>\n      <td>524</td>\n      <td>381</td>\n      <td>...</td>\n      <td>112.92</td>\n      <td>120.99</td>\n      <td>362.45</td>\n      <td>299.57</td>\n      <td>0.625625</td>\n      <td>0.663152</td>\n      <td>[[1523, 10151], [1522, 10150], [1521, 10149], ...</td>\n      <td>[[1279, 10951], [1278, 10950], [1277, 10949], ...</td>\n      <td>[[1791, 10158], [1790, 10158], [1789, 10158], ...</td>\n      <td>[[1661, 11109], [1660, 11109], [1659, 11108], ...</td>\n    </tr>\n    <tr>\n      <th>mix4010-09</th>\n      <td>mix4010</td>\n      <td>9</td>\n      <td>9</td>\n      <td>10</td>\n      <td>xihvDwPB2Q8</td>\n      <td>OTpLMfG-gUo</td>\n      <td>0.457933</td>\n      <td>0.466667</td>\n      <td>381</td>\n      <td>329</td>\n      <td>...</td>\n      <td>120.99</td>\n      <td>126.85</td>\n      <td>299.57</td>\n      <td>285.56</td>\n      <td>0.663152</td>\n      <td>0.478269</td>\n      <td>[[1279, 10951], [1278, 10950], [1277, 10949], ...</td>\n      <td>[[1181, 11757], [1180, 11756], [1179, 11755], ...</td>\n      <td>[[1661, 11109], [1660, 11109], [1659, 11108], ...</td>\n      <td>[[1407, 11815], [1406, 11815], [1405, 11815], ...</td>\n    </tr>\n    <tr>\n      <th>mix4010-12</th>\n      <td>mix4010</td>\n      <td>12</td>\n      <td>12</td>\n      <td>13</td>\n      <td>Qv9ZDlRlf6Y</td>\n      <td>9rR7EFBL30w</td>\n      <td>0.562842</td>\n      <td>0.577523</td>\n      <td>412</td>\n      <td>555</td>\n      <td>...</td>\n      <td>115.75</td>\n      <td>52.59</td>\n      <td>311.47</td>\n      <td>312.74</td>\n      <td>0.674211</td>\n      <td>0.605554</td>\n      <td>[[1309, 14115], [1308, 14114], [1307, 14113], ...</td>\n      <td>[[1334, 14878], [1331, 14877], [1330, 14876], ...</td>\n      <td>[[1461, 14124], [1460, 14124], [1459, 14124], ...</td>\n      <td>[[1919, 15214], [1918, 15214], [1917, 15214], ...</td>\n    </tr>\n    <tr>\n      <th>mix4010-13</th>\n      <td>mix4010</td>\n      <td>13</td>\n      <td>13</td>\n      <td>14</td>\n      <td>9rR7EFBL30w</td>\n      <td>NgjAOBkW5wo</td>\n      <td>0.577523</td>\n      <td>0.171463</td>\n      <td>555</td>\n      <td>143</td>\n      <td>...</td>\n      <td>52.59</td>\n      <td>99.44</td>\n      <td>312.74</td>\n      <td>168.08</td>\n      <td>0.605554</td>\n      <td>0.711321</td>\n      <td>[[1334, 14878], [1331, 14877], [1330, 14876], ...</td>\n      <td>[[700, 15153], [697, 15152], [696, 15151], [69...</td>\n      <td>[[1919, 15214], [1918, 15214], [1917, 15214], ...</td>\n      <td>[[1665, 15216], [1664, 15216], [1663, 15216], ...</td>\n    </tr>\n  </tbody>\n</table>\n<p>9 rows × 55 columns</p>\n</div>"
     },
     "execution_count": 6,
     "metadata": {},
     "output_type": "execute_result"
    }
   ],
   "source": [
    "mix.transitions()"
   ],
   "metadata": {
    "collapsed": false,
    "pycharm": {
     "name": "#%%\n"
    }
   }
  },
  {
   "cell_type": "code",
   "execution_count": 7,
   "outputs": [
    {
     "name": "stdout",
     "output_type": "stream",
     "text": [
      "=> Loading CcBpjGpy7ZQ and 0pPtISWO7G0 tracks\n",
      "=> Aligning tracks using TSM\n",
      "=> Extracting spectrograms\n",
      "=> Start case: mixer='eq3fader' spectrogram='cqt' sr=44100 pad_beats=8 hop=4096 fft=8192 fmin=50 fmax=15000 num_cqt_bins=100 num_mel_bins=100 cqt_bins_per_octave=12 cqt_filter_scale=2 cutoff_low=180 center_mid=1000 cutoff_high=3000 mid_opt_range=(800, 1400)\n",
      "=> Running convex optimization\n",
      "===============================================================================\n",
      "                                     CVXPY                                     \n",
      "                                     v1.2.1                                    \n",
      "===============================================================================\n",
      "(CVXPY) Aug 31 12:56:33 AM: Your problem has 9280 variables, 16 constraints, and 0 parameters.\n",
      "(CVXPY) Aug 31 12:56:33 AM: It is compliant with the following grammars: DCP, DQCP\n",
      "(CVXPY) Aug 31 12:56:33 AM: (If you need to solve this problem multiple times, but with different data, consider using parameters.)\n",
      "(CVXPY) Aug 31 12:56:33 AM: CVXPY will first compile your problem; then, it will invoke a numerical solver to obtain a solution.\n",
      "-------------------------------------------------------------------------------\n",
      "                                  Compilation                                  \n",
      "-------------------------------------------------------------------------------\n",
      "(CVXPY) Aug 31 12:56:33 AM: Compiling problem (target solver=ECOS).\n",
      "(CVXPY) Aug 31 12:56:33 AM: Reduction chain: Dcp2Cone -> CvxAttr2Constr -> ConeMatrixStuffing -> ECOS\n",
      "(CVXPY) Aug 31 12:56:33 AM: Applying reduction Dcp2Cone\n",
      "(CVXPY) Aug 31 12:56:33 AM: Applying reduction CvxAttr2Constr\n",
      "(CVXPY) Aug 31 12:56:33 AM: Applying reduction ConeMatrixStuffing\n",
      "(CVXPY) Aug 31 12:56:33 AM: Applying reduction ECOS\n",
      "(CVXPY) Aug 31 12:56:33 AM: Finished problem compilation (took 7.469e-01 seconds).\n",
      "-------------------------------------------------------------------------------\n",
      "                                Numerical solver                               \n",
      "-------------------------------------------------------------------------------\n",
      "(CVXPY) Aug 31 12:56:33 AM: Invoking solver ECOS  to obtain a solution.\n",
      "-------------------------------------------------------------------------------\n",
      "                                    Summary                                    \n",
      "-------------------------------------------------------------------------------\n",
      "(CVXPY) Aug 31 12:56:40 AM: Problem status: optimal_inaccurate\n",
      "(CVXPY) Aug 31 12:56:40 AM: Optimal value: 2.050e+00\n",
      "(CVXPY) Aug 31 12:56:40 AM: Compilation took 7.469e-01 seconds\n",
      "(CVXPY) Aug 31 12:56:40 AM: Solver (including time spent in interface) took 7.101e+00 seconds\n"
     ]
    },
    {
     "name": "stderr",
     "output_type": "stream",
     "text": [
      "/Users/taejun/miniconda3/envs/djmix/lib/python3.9/site-packages/cvxpy/problems/problem.py:1337: UserWarning: Solution may be inaccurate. Try another solver, adjusting the solver settings, or solve with verbose=True for more information.\n",
      "  warnings.warn(\n",
      "/Users/taejun/git/djmix-dataset/djmix/cvxopt/optimize.py:241: UserWarning: Matplotlib is currently using module://matplotlib_inline.backend_inline, which is a non-GUI backend, so cannot show the figure.\n",
      "  fig.show()\n"
     ]
    },
    {
     "name": "stdout",
     "output_type": "stream",
     "text": [
      "=> Loading 0pPtISWO7G0 and inTAEYqTzNw tracks\n",
      "=> Aligning tracks using TSM\n",
      "=> Extracting spectrograms\n",
      "=> Start case: mixer='eq3fader' spectrogram='cqt' sr=44100 pad_beats=8 hop=4096 fft=8192 fmin=50 fmax=15000 num_cqt_bins=100 num_mel_bins=100 cqt_bins_per_octave=12 cqt_filter_scale=2 cutoff_low=180 center_mid=1000 cutoff_high=3000 mid_opt_range=(800, 1400)\n",
      "=> Running convex optimization\n",
      "===============================================================================\n",
      "                                     CVXPY                                     \n",
      "                                     v1.2.1                                    \n",
      "===============================================================================\n",
      "(CVXPY) Aug 31 12:57:17 AM: Your problem has 10464 variables, 16 constraints, and 0 parameters.\n",
      "(CVXPY) Aug 31 12:57:17 AM: It is compliant with the following grammars: DCP, DQCP\n",
      "(CVXPY) Aug 31 12:57:17 AM: (If you need to solve this problem multiple times, but with different data, consider using parameters.)\n",
      "(CVXPY) Aug 31 12:57:17 AM: CVXPY will first compile your problem; then, it will invoke a numerical solver to obtain a solution.\n",
      "-------------------------------------------------------------------------------\n",
      "                                  Compilation                                  \n",
      "-------------------------------------------------------------------------------\n",
      "(CVXPY) Aug 31 12:57:17 AM: Compiling problem (target solver=ECOS).\n",
      "(CVXPY) Aug 31 12:57:17 AM: Reduction chain: Dcp2Cone -> CvxAttr2Constr -> ConeMatrixStuffing -> ECOS\n",
      "(CVXPY) Aug 31 12:57:17 AM: Applying reduction Dcp2Cone\n",
      "(CVXPY) Aug 31 12:57:17 AM: Applying reduction CvxAttr2Constr\n",
      "(CVXPY) Aug 31 12:57:17 AM: Applying reduction ConeMatrixStuffing\n",
      "(CVXPY) Aug 31 12:57:18 AM: Applying reduction ECOS\n",
      "(CVXPY) Aug 31 12:57:18 AM: Finished problem compilation (took 8.418e-01 seconds).\n",
      "-------------------------------------------------------------------------------\n",
      "                                Numerical solver                               \n",
      "-------------------------------------------------------------------------------\n",
      "(CVXPY) Aug 31 12:57:18 AM: Invoking solver ECOS  to obtain a solution.\n",
      "\n",
      "ECOS 2.0.10 - (C) embotech GmbH, Zurich Switzerland, 2012-15. Web: www.embotech.com/ECOS\n",
      "\n",
      "It     pcost       dcost      gap   pres   dres    k/t    mu     step   sigma     IR    |   BT\n",
      " 0  +5.795e-18  -5.268e+03  +3e+06  9e-01  1e+00  1e+00  2e+01    ---    ---    1  1  - |  -  - \n",
      " 1  +8.621e+01  -8.800e+02  +1e+06  1e-01  4e-01  1e+00  8e+00  0.6807  2e-01   1  1  1 |  0  0\n",
      " 2  +7.877e+01  -7.218e+02  +1e+06  1e-01  4e-01  2e+00  8e+00  0.2749  8e-01   1  1  1 |  0  0\n",
      " 3  +6.447e+01  -1.068e+02  +5e+05  2e-02  1e-01  5e-01  3e+00  0.6793  9e-02   1  1  1 |  0  0\n",
      " 4  +5.554e+01  +1.446e+00  +2e+05  6e-03  5e-02  1e-01  1e+00  0.6878  1e-01   1  1  1 |  0  0\n",
      " 5  +4.595e+01  +2.973e+01  +7e+04  2e-03  2e-02  3e-02  4e-01  0.7532  2e-01   1  1  1 |  0  0\n",
      " 6  +3.155e+01  +2.479e+01  +4e+04  6e-04  7e-03  8e-03  2e-01  0.5783  2e-01   1  1  1 |  0  0\n",
      " 7  +1.696e+01  +1.453e+01  +2e+04  2e-04  2e-03  2e-03  1e-01  0.5451  1e-01   1  1  1 |  0  0\n",
      " 8  +1.041e+01  +9.025e+00  +2e+04  9e-05  1e-03  1e-03  9e-02  0.4061  3e-01   1  1  1 |  0  0\n",
      " 9  +6.992e+00  +6.167e+00  +1e+04  5e-05  7e-04  6e-04  6e-02  0.4086  2e-01   1  1  1 |  0  0\n",
      "10  +5.436e+00  +4.876e+00  +7e+03  3e-05  5e-04  4e-04  4e-02  0.3785  3e-01   1  1  1 |  0  0\n",
      "11  +4.254e+00  +3.906e+00  +5e+03  2e-05  3e-04  2e-04  3e-02  0.5356  4e-01   1  1  1 |  0  0\n",
      "12  +3.061e+00  +2.905e+00  +2e+03  8e-06  1e-04  8e-05  1e-02  0.6020  1e-01   1  1  1 |  0  0\n",
      "13  +2.776e+00  +2.667e+00  +2e+03  5e-06  1e-04  5e-05  1e-02  0.3707  3e-01   1  1  1 |  0  0\n",
      "14  +2.507e+00  +2.442e+00  +1e+03  3e-06  7e-05  3e-05  7e-03  0.4761  2e-01   1  1  1 |  0  0\n",
      "15  +2.371e+00  +2.326e+00  +8e+02  2e-06  6e-05  2e-05  5e-03  0.3936  3e-01   1  1  1 |  0  0\n",
      "16  +2.286e+00  +2.254e+00  +6e+02  1e-06  4e-05  1e-05  3e-03  0.3760  3e-01   1  1  1 |  0  0\n",
      "17  +2.278e+00  +2.247e+00  +6e+02  1e-06  4e-05  9e-06  3e-03  0.1161  7e-01   1  1  1 |  0  0\n",
      "18  +2.227e+00  +2.203e+00  +4e+02  1e-06  3e-05  7e-06  3e-03  0.2869  2e-01   1  1  1 |  0  0\n",
      "19  +2.209e+00  +2.188e+00  +4e+02  9e-07  3e-05  6e-06  2e-03  0.1956  5e-01   1  1  1 |  0  0\n",
      "20  +2.151e+00  +2.137e+00  +2e+02  6e-07  2e-05  3e-06  1e-03  0.4658  2e-01   1  1  1 |  0  0\n",
      "21  +2.146e+00  +2.133e+00  +2e+02  5e-07  2e-05  3e-06  1e-03  0.1609  7e-01   1  1  1 |  0  0\n",
      "22  +2.112e+00  +2.104e+00  +1e+02  3e-07  1e-05  1e-06  9e-04  0.6175  4e-01   1  1  1 |  0  0\n",
      "23  +2.099e+00  +2.092e+00  +1e+02  3e-07  1e-05  1e-06  7e-04  0.3411  4e-01   1  1  1 |  0  0\n",
      "24  +2.079e+00  +2.075e+00  +7e+01  2e-07  6e-06  6e-07  4e-04  0.5464  3e-01   1  1  1 |  0  0\n",
      "25  +2.075e+00  +2.072e+00  +6e+01  1e-07  5e-06  5e-07  4e-04  0.2815  5e-01   1  1  1 |  0  0\n",
      "26  +2.065e+00  +2.063e+00  +4e+01  8e-08  3e-06  3e-07  2e-04  0.4831  2e-01   1  1  1 |  0  0\n",
      "27  +2.060e+00  +2.059e+00  +2e+01  5e-08  2e-06  2e-07  1e-04  0.5542  4e-01   1  1  1 |  0  0\n",
      "28  +2.056e+00  +2.055e+00  +1e+01  3e-08  1e-06  1e-07  9e-05  0.5463  3e-01   1  1  1 |  0  0\n",
      "29  +2.053e+00  +2.053e+00  +8e+00  2e-08  6e-07  5e-08  4e-05  0.6402  2e-01   1  1  1 |  0  0\n",
      "30  +2.053e+00  +2.053e+00  +7e+00  2e-08  6e-07  4e-08  4e-05  0.1822  6e-01   1  1  1 |  0  0\n",
      "31  +2.052e+00  +2.051e+00  +4e+00  8e-09  3e-07  2e-08  2e-05  0.9224  5e-01   1  1  1 |  0  0\n",
      "32  +2.051e+00  +2.051e+00  +3e+00  6e-09  2e-07  2e-08  2e-05  0.3002  3e-01   1  1  1 |  0  0\n",
      "33  +2.051e+00  +2.051e+00  +1e+00  3e-09  1e-07  8e-09  8e-06  0.9025  4e-01   1  1  1 |  0  0\n",
      "34  +2.050e+00  +2.050e+00  +9e-01  2e-09  8e-08  5e-09  6e-06  0.6110  5e-01   1  1  1 |  0  0\n",
      "35  +2.050e+00  +2.050e+00  +5e-01  1e-09  4e-08  3e-09  3e-06  0.5452  1e-01   1  1  1 |  0  0\n",
      "36  +2.050e+00  +2.050e+00  +2e-01  5e-10  2e-08  1e-09  1e-06  0.9051  4e-01   1  1  1 |  0  0\n",
      "37  +2.050e+00  +2.050e+00  +2e-01  4e-10  2e-08  1e-09  1e-06  0.7034  7e-01   1  1  1 |  0  0\n",
      "38  +2.050e+00  +2.050e+00  +2e-01  4e-10  1e-08  9e-10  1e-06  0.3197  5e-01   1  1  1 |  0  0\n",
      "39  +2.050e+00  +2.050e+00  +4e-02  1e-10  4e-09  2e-10  3e-07  0.7752  4e-02   1  1  1 |  0  0\n",
      "40  +2.050e+00  +2.050e+00  +6e-03  1e-11  5e-10  3e-11  4e-08  0.8734  1e-02   1  1  1 |  0  0\n",
      "41  +2.050e+00  +2.050e+00  +9e-04  2e-12  8e-11  5e-12  5e-09  0.8694  2e-02   2  1  0 |  0  0\n",
      "42  +2.050e+00  +2.050e+00  +2e-05  4e-14  1e-12  9e-14  9e-11  0.9884  6e-03   2  0  0 |  0  0\n",
      "43  +2.050e+00  +2.050e+00  +3e-07  6e-16  3e-14  1e-15  2e-12  0.9890  5e-03   1  0  0 |  0  0\n",
      "44  +2.050e+00  +2.050e+00  +3e-06  6e-16  1e-13  1e-15  2e-11  0.9890  1e+00   2  0  0 |  0  0\n",
      "45  +2.050e+00  +2.050e+00  +5e-08  1e-17  2e-15  1e-16  3e-13  0.9890  5e-03   2  0  0 |  0  0\n",
      "46  +2.050e+00  +2.050e+00  +3e-06  3e-17  1e-13  2e-16  2e-11  0.9890  9e-01   2  0  0 |  0  0\n",
      "47  +2.050e+00  +2.050e+00  +4e-07  6e-17  2e-14  2e-15  2e-12  0.9890  1e-01   1  0  0 |  0  0\n",
      "48  +2.050e+00  +2.050e+00  +1e-06  6e-17  6e-14  2e-15  8e-12  0.9890  9e-01   2  0  0 |  0  0\n",
      "49  +2.050e+00  +2.050e+00  +1e-06  2e-16  5e-14  7e-15  8e-12  0.9890  9e-01   2  0  0 |  0  0\n",
      "50  +2.050e+00  +2.050e+00  +1e-06  1e-16  5e-14  5e-15  7e-12  0.9890  8e-01   2  0  0 |  0  0\n",
      "51  +2.050e+00  +2.050e+00  +1e-06  1e-16  4e-14  5e-15  6e-12  0.9890  8e-01   2  0  0 |  0  0\n",
      "52  +2.050e+00  +2.050e+00  +1e-06  1e-16  5e-14  4e-15  7e-12  0.9890  8e-01   1  0  0 |  0  0\n",
      "53  +2.050e+00  +2.050e+00  +1e-06  1e-16  4e-14  5e-15  6e-12  0.9890  8e-01   2  0  0 |  0  0\n",
      "54  +2.050e+00  +2.050e+00  +1e-06  1e-16  5e-14  4e-15  7e-12  0.9890  8e-01   2  0  0 |  0  0\n",
      "55  +2.050e+00  +2.050e+00  +1e-06  1e-16  4e-14  5e-15  6e-12  0.9890  8e-01   2  0  0 |  0  0\n",
      "56  +2.050e+00  +2.050e+00  +1e-06  9e-17  5e-14  4e-15  7e-12  0.9890  7e-01   2  0  0 |  0  0\n",
      "57  +2.050e+00  +2.050e+00  +9e-07  1e-16  4e-14  5e-15  6e-12  0.9890  8e-01   2  0  0 |  0  0\n",
      "58  +2.050e+00  +2.050e+00  +1e-06  9e-17  5e-14  4e-15  7e-12  0.9890  7e-01   2  0  0 |  0  0\n",
      "59  +2.050e+00  +2.050e+00  +9e-07  1e-16  4e-14  5e-15  5e-12  0.9890  8e-01   2  0  0 |  0  0\n",
      "60  +2.050e+00  +2.050e+00  +1e-06  8e-17  5e-14  3e-15  7e-12  0.9890  7e-01   2  0  0 |  0  0\n",
      "61  +2.050e+00  +2.050e+00  +9e-07  1e-16  4e-14  4e-15  5e-12  0.9890  7e-01   2  0  0 |  0  0\n",
      "62  +2.050e+00  +2.050e+00  +1e-06  8e-17  5e-14  3e-15  7e-12  0.9890  7e-01   1  0  0 |  0  0\n",
      "63  +2.050e+00  +2.050e+00  +9e-07  1e-16  4e-14  4e-15  5e-12  0.9890  7e-01   2  0  0 |  0  0\n",
      "64  +2.050e+00  +2.050e+00  +1e-06  8e-17  5e-14  3e-15  7e-12  0.9890  7e-01   1  0  0 |  0  0\n",
      "65  +2.050e+00  +2.050e+00  +9e-07  1e-16  4e-14  4e-15  5e-12  0.9890  7e-01   1  0  0 |  0  0\n",
      "66  +2.050e+00  +2.050e+00  +1e-06  8e-17  5e-14  3e-15  7e-12  0.9890  7e-01   2  0  0 |  0  0\n",
      "67  +2.050e+00  +2.050e+00  +9e-07  1e-16  4e-14  4e-15  5e-12  0.9890  7e-01   2  0  0 |  0  0\n",
      "68  +2.050e+00  +2.050e+00  +1e-06  8e-17  5e-14  3e-15  7e-12  0.9890  7e-01   1  0  0 |  0  0\n",
      "69  +2.050e+00  +2.050e+00  +9e-07  1e-16  4e-14  4e-15  5e-12  0.9890  7e-01   2  0  0 |  0  0\n",
      "70  +2.050e+00  +2.050e+00  +1e-06  8e-17  5e-14  3e-15  7e-12  0.9890  7e-01   2  0  0 |  0  0\n",
      "71  +2.050e+00  +2.050e+00  +9e-07  1e-16  4e-14  4e-15  5e-12  0.9890  7e-01   2  0  0 |  0  0\n",
      "72  +2.050e+00  +2.050e+00  +1e-06  7e-17  5e-14  3e-15  7e-12  0.9890  7e-01   2  0  0 |  0  0\n",
      "73  +2.050e+00  +2.050e+00  +9e-07  9e-17  4e-14  4e-15  5e-12  0.9890  7e-01   2  0  0 |  0  0\n",
      "74  +2.050e+00  +2.050e+00  +1e-06  7e-17  5e-14  3e-15  7e-12  0.9890  7e-01   2  0  0 |  0  0\n",
      "75  +2.050e+00  +2.050e+00  +9e-07  9e-17  4e-14  4e-15  5e-12  0.9890  7e-01   1  0  0 |  0  0\n",
      "76  +2.050e+00  +2.050e+00  +1e-06  7e-17  5e-14  3e-15  7e-12  0.9890  7e-01   2  0  0 |  0  0\n",
      "77  +2.050e+00  +2.050e+00  +9e-07  9e-17  4e-14  4e-15  5e-12  0.9890  7e-01   2  0  0 |  0  0\n",
      "78  +2.050e+00  +2.050e+00  +1e-06  7e-17  5e-14  3e-15  7e-12  0.9890  7e-01   1  0  0 |  0  0\n",
      "79  +2.050e+00  +2.050e+00  +9e-07  9e-17  4e-14  4e-15  5e-12  0.9890  7e-01   2  0  0 |  0  0\n",
      "80  +2.050e+00  +2.050e+00  +1e-06  7e-17  5e-14  3e-15  7e-12  0.9890  7e-01   1  0  0 |  0  0\n",
      "81  +2.050e+00  +2.050e+00  +9e-07  9e-17  4e-14  4e-15  5e-12  0.9890  7e-01   2  0  0 |  0  0\n",
      "82  +2.050e+00  +2.050e+00  +1e-06  7e-17  5e-14  3e-15  7e-12  0.9890  7e-01   2  0  0 |  0  0\n",
      "83  +2.050e+00  +2.050e+00  +8e-07  9e-17  4e-14  4e-15  5e-12  0.9890  7e-01   2  0  0 |  0  0\n",
      "84  +2.050e+00  +2.050e+00  +1e-06  7e-17  5e-14  3e-15  7e-12  0.9890  7e-01   2  0  0 |  0  0\n",
      "85  +2.050e+00  +2.050e+00  +9e-07  9e-17  4e-14  4e-15  5e-12  0.9890  7e-01   2  0  0 |  0  0\n",
      "86  +2.050e+00  +2.050e+00  +1e-06  7e-17  5e-14  3e-15  7e-12  0.9890  7e-01   2  0  0 |  0  0\n",
      "87  +2.050e+00  +2.050e+00  +8e-07  9e-17  4e-14  4e-15  5e-12  0.9890  7e-01   2  0  0 |  0  0\n",
      "88  +2.050e+00  +2.050e+00  +1e-06  7e-17  5e-14  3e-15  7e-12  0.9890  7e-01   2  0  0 |  0  0\n",
      "89  +2.050e+00  +2.050e+00  +9e-07  9e-17  4e-14  4e-15  5e-12  0.9890  7e-01   1  0  0 |  0  0\n",
      "90  +2.050e+00  +2.050e+00  +1e-06  7e-17  5e-14  3e-15  7e-12  0.9890  7e-01   1  0  0 |  0  0\n",
      "91  +2.050e+00  +2.050e+00  +8e-07  9e-17  4e-14  4e-15  5e-12  0.9890  7e-01   2  0  0 |  0  0\n",
      "92  +2.050e+00  +2.050e+00  +1e-06  7e-17  5e-14  3e-15  7e-12  0.9890  7e-01   1  0  0 |  0  0\n",
      "93  +2.050e+00  +2.050e+00  +9e-07  9e-17  4e-14  4e-15  5e-12  0.9890  7e-01   2  0  0 |  0  0\n",
      "94  +2.050e+00  +2.050e+00  +1e-06  7e-17  5e-14  3e-15  7e-12  0.9890  7e-01   2  0  0 |  0  0\n",
      "95  +2.050e+00  +2.050e+00  +8e-07  9e-17  4e-14  4e-15  5e-12  0.9890  7e-01   2  0  0 |  0  0\n",
      "96  +2.050e+00  +2.050e+00  +1e-06  7e-17  5e-14  3e-15  7e-12  0.9890  7e-01   1  0  0 |  0  0\n",
      "97  +2.050e+00  +2.050e+00  +9e-07  9e-17  4e-14  4e-15  5e-12  0.9890  7e-01   2  0  0 |  0  0\n",
      "98  +2.050e+00  +2.050e+00  +1e-06  7e-17  5e-14  3e-15  7e-12  0.9890  7e-01   2  0  0 |  0  0\n",
      "99  +2.050e+00  +2.050e+00  +8e-07  9e-17  4e-14  4e-15  5e-12  0.9890  7e-01   1  0  0 |  0  0\n",
      "100  +2.050e+00  +2.050e+00  +1e-06  7e-17  5e-14  3e-15  7e-12  0.9890  7e-01   1  0  0 |  0  0\n",
      "Maximum number of iterations reached, recovering best iterate (45) and stopping.\n",
      "\n",
      "Close to OPTIMAL (within feastol=2.0e-15, reltol=2.4e-08, abstol=4.8e-08).\n",
      "Runtime: 7.086533 seconds.\n",
      "\n",
      "\n",
      "ECOS 2.0.10 - (C) embotech GmbH, Zurich Switzerland, 2012-15. Web: www.embotech.com/ECOS\n",
      "\n",
      "It     pcost       dcost      gap   pres   dres    k/t    mu     step   sigma     IR    |   BT\n",
      " 0  +6.110e-18  -5.569e+03  +3e+06  9e-01  1e+00  1e+00  2e+01    ---    ---    1  1  - |  -  - \n",
      " 1  +7.671e+01  -9.337e+02  +1e+06  1e-01  4e-01  1e+00  7e+00  0.6873  2e-01   1  1  1 |  0  0\n",
      " 2  +6.325e+01  -4.758e+02  +1e+06  6e-02  3e-01  1e+00  6e+00  0.5523  6e-01   1  1  1 |  0  0\n",
      " 3  +5.470e+01  -7.316e+01  +4e+05  1e-02  1e-01  3e-01  2e+00  0.6903  8e-02   1  1  1 |  0  0\n",
      " 4  +4.938e+01  +3.747e+00  +2e+05  4e-03  4e-02  1e-01  8e-01  0.6568  1e-01   1  1  1 |  0  0\n",
      " 5  +4.310e+01  +2.227e+01  +8e+04  2e-03  2e-02  4e-02  4e-01  0.6011  2e-01   1  1  1 |  0  0\n",
      " 6  +3.365e+01  +2.461e+01  +4e+04  8e-04  8e-03  1e-02  2e-01  0.5565  1e-01   1  1  1 |  0  0\n",
      " 7  +2.094e+01  +1.724e+01  +2e+04  3e-04  3e-03  3e-03  1e-01  0.6166  3e-01   1  1  1 |  0  0\n",
      " 8  +1.376e+01  +1.160e+01  +2e+04  1e-04  2e-03  2e-03  1e-01  0.3752  3e-01   1  1  1 |  0  0\n",
      " 9  +9.514e+00  +8.172e+00  +1e+04  8e-05  1e-03  9e-04  7e-02  0.3608  3e-01   1  1  1 |  0  0\n",
      "10  +6.898e+00  +6.038e+00  +1e+04  5e-05  6e-04  5e-04  5e-02  0.3938  3e-01   1  1  1 |  0  0\n",
      "11  +5.240e+00  +4.689e+00  +7e+03  3e-05  4e-04  3e-04  3e-02  0.4588  3e-01   1  1  1 |  0  0\n",
      "12  +3.991e+00  +3.682e+00  +4e+03  2e-05  2e-04  1e-04  2e-02  0.6593  4e-01   1  1  1 |  0  0\n",
      "13  +3.372e+00  +3.165e+00  +3e+03  1e-05  2e-04  8e-05  1e-02  0.4078  3e-01   1  1  1 |  0  0\n",
      "14  +2.815e+00  +2.697e+00  +2e+03  5e-06  1e-04  4e-05  9e-03  0.4982  2e-01   1  1  1 |  0  0\n",
      "15  +2.533e+00  +2.457e+00  +1e+03  3e-06  8e-05  2e-05  6e-03  0.4118  2e-01   1  1  1 |  0  0\n",
      "16  +2.482e+00  +2.417e+00  +1e+03  3e-06  7e-05  2e-05  5e-03  0.3764  7e-01   1  1  1 |  0  0\n",
      "17  +2.286e+00  +2.248e+00  +6e+02  2e-06  5e-05  9e-06  3e-03  0.4652  2e-01   1  0  1 |  0  0\n",
      "18  +2.258e+00  +2.224e+00  +6e+02  1e-06  4e-05  8e-06  3e-03  0.2077  5e-01   1  1  1 |  0  0\n",
      "19  +2.252e+00  +2.220e+00  +5e+02  1e-06  4e-05  6e-06  3e-03  0.3075  9e-01   1  1  1 |  0  0\n",
      "20  +2.179e+00  +2.156e+00  +4e+02  9e-07  3e-05  4e-06  2e-03  0.3549  2e-01   1  1  1 |  0  0\n",
      "21  +2.118e+00  +2.103e+00  +3e+02  6e-07  2e-05  2e-06  1e-03  0.6031  4e-01   1  1  1 |  0  0\n",
      "22  +2.095e+00  +2.083e+00  +2e+02  5e-07  2e-05  2e-06  1e-03  0.4000  5e-01   1  1  1 |  0  0\n",
      "23  +2.062e+00  +2.055e+00  +1e+02  3e-07  1e-05  1e-06  7e-04  0.4278  2e-01   1  1  1 |  0  0\n",
      "24  +2.049e+00  +2.043e+00  +1e+02  2e-07  8e-06  8e-07  6e-04  0.3372  4e-01   1  1  1 |  0  0\n",
      "25  +2.036e+00  +2.031e+00  +8e+01  2e-07  6e-06  5e-07  4e-04  0.3885  3e-01   1  1  1 |  0  0\n",
      "26  +2.026e+00  +2.023e+00  +6e+01  1e-07  4e-06  4e-07  3e-04  0.4435  4e-01   1  1  1 |  0  0\n",
      "27  +2.023e+00  +2.020e+00  +5e+01  1e-07  4e-06  3e-07  3e-04  0.2105  5e-01   1  1  1 |  0  0\n",
      "28  +2.016e+00  +2.014e+00  +4e+01  8e-08  3e-06  2e-07  2e-04  0.5221  4e-01   1  1  1 |  0  0\n",
      "29  +2.014e+00  +2.012e+00  +3e+01  7e-08  2e-06  2e-07  2e-04  0.2065  5e-01   1  1  1 |  0  0\n",
      "30  +2.010e+00  +2.009e+00  +2e+01  5e-08  2e-06  1e-07  1e-04  0.5397  5e-01   1  1  1 |  0  0\n",
      "31  +2.007e+00  +2.006e+00  +2e+01  4e-08  1e-06  9e-08  9e-05  0.4370  4e-01   1  1  1 |  0  0\n",
      "32  +2.006e+00  +2.005e+00  +1e+01  3e-08  1e-06  8e-08  7e-05  0.2434  4e-01   1  1  1 |  0  0\n",
      "33  +2.004e+00  +2.004e+00  +1e+01  2e-08  8e-07  5e-08  5e-05  0.6030  6e-01   1  1  1 |  0  0\n",
      "34  +2.003e+00  +2.002e+00  +7e+00  1e-08  5e-07  3e-08  4e-05  0.9890  6e-01   1  1  1 |  0  0\n",
      "35  +2.002e+00  +2.002e+00  +6e+00  1e-08  5e-07  3e-08  3e-05  0.1672  4e-01   1  1  1 |  0  0\n",
      "36  +2.002e+00  +2.001e+00  +5e+00  1e-08  4e-07  2e-08  2e-05  0.8689  7e-01   1  1  1 |  0  0\n",
      "37  +2.002e+00  +2.001e+00  +4e+00  9e-09  3e-07  2e-08  2e-05  0.2235  7e-01   1  1  1 |  0  0\n",
      "38  +2.001e+00  +2.001e+00  +4e+00  9e-09  3e-07  2e-08  2e-05  0.1818  8e-01   1  1  1 |  0  0\n",
      "39  +2.001e+00  +2.001e+00  +3e+00  7e-09  3e-07  2e-08  2e-05  0.6939  7e-01   1  1  1 |  0  0\n",
      "40  +2.001e+00  +2.001e+00  +3e+00  5e-09  2e-07  1e-08  1e-05  0.3810  4e-01   1  1  1 |  0  0\n",
      "41  +2.001e+00  +2.001e+00  +2e+00  5e-09  2e-07  1e-08  1e-05  0.0329  1e+00   1  1  1 |  0  0\n",
      "42  +2.000e+00  +2.000e+00  +2e+00  4e-09  1e-07  1e-08  1e-05  0.4250  4e-01   1  1  1 |  0  0\n",
      "43  +2.000e+00  +2.000e+00  +2e+00  4e-09  1e-07  9e-09  9e-06  0.3635  7e-01   1  1  1 |  0  0\n",
      "44  +2.000e+00  +2.000e+00  +1e+00  3e-09  1e-07  7e-09  7e-06  0.3309  3e-01   1  1  1 |  0  0\n",
      "45  +2.000e+00  +2.000e+00  +1e+00  3e-09  1e-07  6e-09  7e-06  0.1397  8e-01   1  1  1 |  0  0\n",
      "46  +2.000e+00  +2.000e+00  +1e+00  2e-09  8e-08  5e-09  5e-06  0.5192  5e-01   1  1  1 |  0  0\n",
      "47  +2.000e+00  +2.000e+00  +6e-01  1e-09  5e-08  3e-09  3e-06  0.5104  3e-01   1  1  1 |  0  0\n",
      "48  +2.000e+00  +2.000e+00  +6e-01  1e-09  5e-08  3e-09  3e-06  0.0963  6e-01   1  1  1 |  0  0\n",
      "49  +2.000e+00  +2.000e+00  +6e-01  1e-09  5e-08  3e-09  3e-06  0.0559  9e-01   1  1  1 |  0  0\n",
      "50  +2.000e+00  +2.000e+00  +4e-01  8e-10  3e-08  2e-09  2e-06  0.4340  2e-01   1  1  1 |  0  0\n",
      "51  +2.000e+00  +2.000e+00  +2e-01  4e-10  2e-08  1e-09  1e-06  0.5511  2e-01   1  1  1 |  0  0\n",
      "52  +2.000e+00  +2.000e+00  +2e-01  4e-10  2e-08  1e-09  1e-06  0.2174  8e-01   2  1  1 |  0  0\n",
      "53  +2.000e+00  +2.000e+00  +1e-01  2e-10  8e-09  5e-10  5e-07  0.7110  3e-01   2  1  1 |  0  0\n",
      "54  +2.000e+00  +2.000e+00  +8e-02  2e-10  7e-09  4e-10  4e-07  0.4354  7e-01   2  1  1 |  0  0\n",
      "55  +2.000e+00  +2.000e+00  +7e-02  1e-10  6e-09  4e-10  4e-07  0.6826  7e-01   1  1  1 |  0  0\n",
      "56  +2.000e+00  +2.000e+00  +5e-02  1e-10  4e-09  3e-10  3e-07  0.2875  2e-01   2  1  1 |  0  0\n",
      "57  +2.000e+00  +2.000e+00  +4e-02  9e-11  3e-09  2e-10  2e-07  0.6473  6e-01   1  1  1 |  0  0\n",
      "58  +2.000e+00  +2.000e+00  +2e-02  4e-11  1e-09  9e-11  9e-08  0.7593  3e-01   2  1  1 |  0  0\n",
      "59  +2.000e+00  +2.000e+00  +3e-03  5e-12  3e-10  1e-11  1e-08  0.9133  6e-02   2  1  1 |  0  0\n",
      "60  +2.000e+00  +2.000e+00  +4e-04  8e-13  6e-11  2e-12  2e-09  0.8638  2e-02   1  1  1 |  0  0\n",
      "61  +2.000e+00  +2.000e+00  +4e-06  9e-15  5e-12  2e-14  2e-11  0.9890  2e-04   2  0  0 |  0  0\n",
      "62  +2.000e+00  +2.000e+00  +2e-06  5e-15  3e-12  1e-14  1e-11  0.9890  5e-01   1  0  0 |  0  0\n",
      "63  +2.000e+00  +2.000e+00  +3e-07  5e-16  3e-13  1e-15  1e-12  0.9890  9e-02   -------------------------------------------------------------------------------\n",
      "                                    Summary                                    \n",
      "-------------------------------------------------------------------------------\n",
      "(CVXPY) Aug 31 12:57:26 AM: Problem status: optimal_inaccurate\n",
      "(CVXPY) Aug 31 12:57:26 AM: Optimal value: 2.000e+00\n",
      "(CVXPY) Aug 31 12:57:26 AM: Compilation took 8.418e-01 seconds\n",
      "(CVXPY) Aug 31 12:57:26 AM: Solver (including time spent in interface) took 8.130e+00 seconds\n"
     ]
    },
    {
     "name": "stderr",
     "output_type": "stream",
     "text": [
      "/Users/taejun/miniconda3/envs/djmix/lib/python3.9/site-packages/cvxpy/problems/problem.py:1337: UserWarning: Solution may be inaccurate. Try another solver, adjusting the solver settings, or solve with verbose=True for more information.\n",
      "  warnings.warn(\n",
      "/Users/taejun/git/djmix-dataset/djmix/cvxopt/optimize.py:241: UserWarning: Matplotlib is currently using module://matplotlib_inline.backend_inline, which is a non-GUI backend, so cannot show the figure.\n",
      "  fig.show()\n"
     ]
    },
    {
     "ename": "KeyboardInterrupt",
     "evalue": "",
     "output_type": "error",
     "traceback": [
      "\u001B[0;31m---------------------------------------------------------------------------\u001B[0m",
      "\u001B[0;31mKeyboardInterrupt\u001B[0m                         Traceback (most recent call last)",
      "Input \u001B[0;32mIn [7]\u001B[0m, in \u001B[0;36m<cell line: 1>\u001B[0;34m()\u001B[0m\n\u001B[0;32m----> 1\u001B[0m \u001B[43mmix\u001B[49m\u001B[38;5;241;43m.\u001B[39;49m\u001B[43mcvxopt\u001B[49m\u001B[43m(\u001B[49m\u001B[43m)\u001B[49m\n",
      "File \u001B[0;32m~/git/djmix-dataset/djmix/models/Mix.py:49\u001B[0m, in \u001B[0;36mMix.cvxopt\u001B[0;34m(self, **kwargs)\u001B[0m\n\u001B[1;32m     48\u001B[0m \u001B[38;5;28;01mdef\u001B[39;00m \u001B[38;5;21mcvxopt\u001B[39m(\u001B[38;5;28mself\u001B[39m, \u001B[38;5;241m*\u001B[39m\u001B[38;5;241m*\u001B[39mkwargs):\n\u001B[0;32m---> 49\u001B[0m   \u001B[38;5;28;01mreturn\u001B[39;00m \u001B[43mcvxopt\u001B[49m\u001B[38;5;241;43m.\u001B[39;49m\u001B[43moptimize\u001B[49m\u001B[43m(\u001B[49m\u001B[38;5;28;43mself\u001B[39;49m\u001B[43m,\u001B[49m\u001B[43m \u001B[49m\u001B[38;5;241;43m*\u001B[39;49m\u001B[38;5;241;43m*\u001B[39;49m\u001B[43mkwargs\u001B[49m\u001B[43m)\u001B[49m\n",
      "File \u001B[0;32m~/git/djmix-dataset/djmix/cvxopt/optimize.py:56\u001B[0m, in \u001B[0;36moptimize\u001B[0;34m(mix, mixer, spectrogram)\u001B[0m\n\u001B[1;32m     52\u001B[0m     \u001B[38;5;28mprint\u001B[39m(\u001B[38;5;124m'\u001B[39m\u001B[38;5;124m=> Overlapping region is larger than prev track. \u001B[39m\u001B[38;5;124m'\u001B[39m\n\u001B[1;32m     53\u001B[0m           \u001B[38;5;124mf\u001B[39m\u001B[38;5;124m'\u001B[39m\u001B[38;5;124mSkipping: tran_id=\u001B[39m\u001B[38;5;132;01m{\u001B[39;00mtran_id\u001B[38;5;132;01m}\u001B[39;00m\u001B[38;5;124m overlap_beats=\u001B[39m\u001B[38;5;132;01m{\u001B[39;00mtr\u001B[38;5;241m.\u001B[39moverlap_beats\u001B[38;5;132;01m}\u001B[39;00m\u001B[38;5;124m'\u001B[39m)\n\u001B[1;32m     54\u001B[0m     \u001B[38;5;28;01mcontinue\u001B[39;00m\n\u001B[0;32m---> 56\u001B[0m   record \u001B[38;5;241m=\u001B[39m \u001B[43m_cvxopt_transition\u001B[49m\u001B[43m(\u001B[49m\u001B[43mmix\u001B[49m\u001B[43m,\u001B[49m\u001B[43m \u001B[49m\u001B[43mtran_id\u001B[49m\u001B[43m,\u001B[49m\u001B[43m \u001B[49m\u001B[43mtr\u001B[49m\u001B[43m,\u001B[49m\u001B[43m \u001B[49m\u001B[43mc\u001B[49m\u001B[43m)\u001B[49m\n\u001B[1;32m     57\u001B[0m   records\u001B[38;5;241m.\u001B[39mappend(record)\n\u001B[1;32m     58\u001B[0m \u001B[38;5;28;01mexcept\u001B[39;00m \u001B[38;5;167;01mException\u001B[39;00m \u001B[38;5;28;01mas\u001B[39;00m e:\n",
      "File \u001B[0;32m~/git/djmix-dataset/djmix/cvxopt/optimize.py:251\u001B[0m, in \u001B[0;36m_cvxopt_transition\u001B[0;34m(mix, tran_id, tr, c)\u001B[0m\n\u001B[1;32m    249\u001B[0m audio\u001B[38;5;241m.\u001B[39mexport_pydub(est_mix, utils\u001B[38;5;241m.\u001B[39mmkpath(result_dir, \u001B[38;5;124mf\u001B[39m\u001B[38;5;124m'\u001B[39m\u001B[38;5;132;01m{\u001B[39;00mcase_id\u001B[38;5;132;01m}\u001B[39;00m\u001B[38;5;124m_est_mix.mp3\u001B[39m\u001B[38;5;124m'\u001B[39m))\n\u001B[1;32m    250\u001B[0m audio\u001B[38;5;241m.\u001B[39mexport_pydub(est_prev, utils\u001B[38;5;241m.\u001B[39mmkpath(result_dir, \u001B[38;5;124mf\u001B[39m\u001B[38;5;124m'\u001B[39m\u001B[38;5;132;01m{\u001B[39;00mcase_id\u001B[38;5;132;01m}\u001B[39;00m\u001B[38;5;124m_est_prev.mp3\u001B[39m\u001B[38;5;124m'\u001B[39m))\n\u001B[0;32m--> 251\u001B[0m \u001B[43maudio\u001B[49m\u001B[38;5;241;43m.\u001B[39;49m\u001B[43mexport_pydub\u001B[49m\u001B[43m(\u001B[49m\u001B[43mest_next\u001B[49m\u001B[43m,\u001B[49m\u001B[43m \u001B[49m\u001B[43mutils\u001B[49m\u001B[38;5;241;43m.\u001B[39;49m\u001B[43mmkpath\u001B[49m\u001B[43m(\u001B[49m\u001B[43mresult_dir\u001B[49m\u001B[43m,\u001B[49m\u001B[43m \u001B[49m\u001B[38;5;124;43mf\u001B[39;49m\u001B[38;5;124;43m'\u001B[39;49m\u001B[38;5;132;43;01m{\u001B[39;49;00m\u001B[43mcase_id\u001B[49m\u001B[38;5;132;43;01m}\u001B[39;49;00m\u001B[38;5;124;43m_est_next.mp3\u001B[39;49m\u001B[38;5;124;43m'\u001B[39;49m\u001B[43m)\u001B[49m\u001B[43m)\u001B[49m\n\u001B[1;32m    253\u001B[0m results \u001B[38;5;241m=\u001B[39m pd\u001B[38;5;241m.\u001B[39mSeries(r)\n\u001B[1;32m    254\u001B[0m results\u001B[38;5;241m.\u001B[39mto_pickle(result_path)\n",
      "File \u001B[0;32m~/git/djmix-dataset/djmix/audio.py:91\u001B[0m, in \u001B[0;36mexport_pydub\u001B[0;34m(pydub_audio, uri, format)\u001B[0m\n\u001B[1;32m     89\u001B[0m \u001B[38;5;28;01mdef\u001B[39;00m \u001B[38;5;21mexport_pydub\u001B[39m(pydub_audio: AudioSegment, uri: \u001B[38;5;28mstr\u001B[39m, \u001B[38;5;28mformat\u001B[39m\u001B[38;5;241m=\u001B[39m\u001B[38;5;124m'\u001B[39m\u001B[38;5;124mmp3\u001B[39m\u001B[38;5;124m'\u001B[39m):\n\u001B[1;32m     90\u001B[0m   f_mem \u001B[38;5;241m=\u001B[39m io\u001B[38;5;241m.\u001B[39mBytesIO()\n\u001B[0;32m---> 91\u001B[0m   \u001B[43mpydub_audio\u001B[49m\u001B[38;5;241;43m.\u001B[39;49m\u001B[43mexport\u001B[49m\u001B[43m(\u001B[49m\u001B[43mf_mem\u001B[49m\u001B[43m,\u001B[49m\u001B[43m \u001B[49m\u001B[38;5;28;43mformat\u001B[39;49m\u001B[38;5;241;43m=\u001B[39;49m\u001B[38;5;28;43mformat\u001B[39;49m\u001B[43m)\u001B[49m\n\u001B[1;32m     92\u001B[0m   \u001B[38;5;28;01mwith\u001B[39;00m \u001B[38;5;28mopen\u001B[39m(uri, \u001B[38;5;124m'\u001B[39m\u001B[38;5;124mwb\u001B[39m\u001B[38;5;124m'\u001B[39m) \u001B[38;5;28;01mas\u001B[39;00m f_out:\n\u001B[1;32m     93\u001B[0m     f_out\u001B[38;5;241m.\u001B[39mwrite(f_mem\u001B[38;5;241m.\u001B[39mgetvalue())\n",
      "File \u001B[0;32m~/miniconda3/envs/djmix/lib/python3.9/site-packages/pydub/audio_segment.py:964\u001B[0m, in \u001B[0;36mAudioSegment.export\u001B[0;34m(self, out_f, format, codec, bitrate, parameters, tags, id3v2_version, cover)\u001B[0m\n\u001B[1;32m    962\u001B[0m \u001B[38;5;28;01mwith\u001B[39;00m \u001B[38;5;28mopen\u001B[39m(os\u001B[38;5;241m.\u001B[39mdevnull, \u001B[38;5;124m'\u001B[39m\u001B[38;5;124mrb\u001B[39m\u001B[38;5;124m'\u001B[39m) \u001B[38;5;28;01mas\u001B[39;00m devnull:\n\u001B[1;32m    963\u001B[0m     p \u001B[38;5;241m=\u001B[39m subprocess\u001B[38;5;241m.\u001B[39mPopen(conversion_command, stdin\u001B[38;5;241m=\u001B[39mdevnull, stdout\u001B[38;5;241m=\u001B[39msubprocess\u001B[38;5;241m.\u001B[39mPIPE, stderr\u001B[38;5;241m=\u001B[39msubprocess\u001B[38;5;241m.\u001B[39mPIPE)\n\u001B[0;32m--> 964\u001B[0m p_out, p_err \u001B[38;5;241m=\u001B[39m \u001B[43mp\u001B[49m\u001B[38;5;241;43m.\u001B[39;49m\u001B[43mcommunicate\u001B[49m\u001B[43m(\u001B[49m\u001B[43m)\u001B[49m\n\u001B[1;32m    966\u001B[0m log_subprocess_output(p_out)\n\u001B[1;32m    967\u001B[0m log_subprocess_output(p_err)\n",
      "File \u001B[0;32m~/miniconda3/envs/djmix/lib/python3.9/subprocess.py:1134\u001B[0m, in \u001B[0;36mPopen.communicate\u001B[0;34m(self, input, timeout)\u001B[0m\n\u001B[1;32m   1131\u001B[0m     endtime \u001B[38;5;241m=\u001B[39m \u001B[38;5;28;01mNone\u001B[39;00m\n\u001B[1;32m   1133\u001B[0m \u001B[38;5;28;01mtry\u001B[39;00m:\n\u001B[0;32m-> 1134\u001B[0m     stdout, stderr \u001B[38;5;241m=\u001B[39m \u001B[38;5;28;43mself\u001B[39;49m\u001B[38;5;241;43m.\u001B[39;49m\u001B[43m_communicate\u001B[49m\u001B[43m(\u001B[49m\u001B[38;5;28;43minput\u001B[39;49m\u001B[43m,\u001B[49m\u001B[43m \u001B[49m\u001B[43mendtime\u001B[49m\u001B[43m,\u001B[49m\u001B[43m \u001B[49m\u001B[43mtimeout\u001B[49m\u001B[43m)\u001B[49m\n\u001B[1;32m   1135\u001B[0m \u001B[38;5;28;01mexcept\u001B[39;00m \u001B[38;5;167;01mKeyboardInterrupt\u001B[39;00m:\n\u001B[1;32m   1136\u001B[0m     \u001B[38;5;66;03m# https://bugs.python.org/issue25942\u001B[39;00m\n\u001B[1;32m   1137\u001B[0m     \u001B[38;5;66;03m# See the detailed comment in .wait().\u001B[39;00m\n\u001B[1;32m   1138\u001B[0m     \u001B[38;5;28;01mif\u001B[39;00m timeout \u001B[38;5;129;01mis\u001B[39;00m \u001B[38;5;129;01mnot\u001B[39;00m \u001B[38;5;28;01mNone\u001B[39;00m:\n",
      "File \u001B[0;32m~/miniconda3/envs/djmix/lib/python3.9/subprocess.py:1979\u001B[0m, in \u001B[0;36mPopen._communicate\u001B[0;34m(self, input, endtime, orig_timeout)\u001B[0m\n\u001B[1;32m   1972\u001B[0m     \u001B[38;5;28mself\u001B[39m\u001B[38;5;241m.\u001B[39m_check_timeout(endtime, orig_timeout,\n\u001B[1;32m   1973\u001B[0m                         stdout, stderr,\n\u001B[1;32m   1974\u001B[0m                         skip_check_and_raise\u001B[38;5;241m=\u001B[39m\u001B[38;5;28;01mTrue\u001B[39;00m)\n\u001B[1;32m   1975\u001B[0m     \u001B[38;5;28;01mraise\u001B[39;00m \u001B[38;5;167;01mRuntimeError\u001B[39;00m(  \u001B[38;5;66;03m# Impossible :)\u001B[39;00m\n\u001B[1;32m   1976\u001B[0m         \u001B[38;5;124m'\u001B[39m\u001B[38;5;124m_check_timeout(..., skip_check_and_raise=True) \u001B[39m\u001B[38;5;124m'\u001B[39m\n\u001B[1;32m   1977\u001B[0m         \u001B[38;5;124m'\u001B[39m\u001B[38;5;124mfailed to raise TimeoutExpired.\u001B[39m\u001B[38;5;124m'\u001B[39m)\n\u001B[0;32m-> 1979\u001B[0m ready \u001B[38;5;241m=\u001B[39m \u001B[43mselector\u001B[49m\u001B[38;5;241;43m.\u001B[39;49m\u001B[43mselect\u001B[49m\u001B[43m(\u001B[49m\u001B[43mtimeout\u001B[49m\u001B[43m)\u001B[49m\n\u001B[1;32m   1980\u001B[0m \u001B[38;5;28mself\u001B[39m\u001B[38;5;241m.\u001B[39m_check_timeout(endtime, orig_timeout, stdout, stderr)\n\u001B[1;32m   1982\u001B[0m \u001B[38;5;66;03m# XXX Rewrite these to use non-blocking I/O on the file\u001B[39;00m\n\u001B[1;32m   1983\u001B[0m \u001B[38;5;66;03m# objects; they are no longer using C stdio!\u001B[39;00m\n",
      "File \u001B[0;32m~/miniconda3/envs/djmix/lib/python3.9/selectors.py:416\u001B[0m, in \u001B[0;36m_PollLikeSelector.select\u001B[0;34m(self, timeout)\u001B[0m\n\u001B[1;32m    414\u001B[0m ready \u001B[38;5;241m=\u001B[39m []\n\u001B[1;32m    415\u001B[0m \u001B[38;5;28;01mtry\u001B[39;00m:\n\u001B[0;32m--> 416\u001B[0m     fd_event_list \u001B[38;5;241m=\u001B[39m \u001B[38;5;28;43mself\u001B[39;49m\u001B[38;5;241;43m.\u001B[39;49m\u001B[43m_selector\u001B[49m\u001B[38;5;241;43m.\u001B[39;49m\u001B[43mpoll\u001B[49m\u001B[43m(\u001B[49m\u001B[43mtimeout\u001B[49m\u001B[43m)\u001B[49m\n\u001B[1;32m    417\u001B[0m \u001B[38;5;28;01mexcept\u001B[39;00m \u001B[38;5;167;01mInterruptedError\u001B[39;00m:\n\u001B[1;32m    418\u001B[0m     \u001B[38;5;28;01mreturn\u001B[39;00m ready\n",
      "\u001B[0;31mKeyboardInterrupt\u001B[0m: "
     ]
    },
    {
     "name": "stdout",
     "output_type": "stream",
     "text": [
      "Error in callback <function flush_figures at 0x7f81d16c33a0> (for post_execute):\n"
     ]
    },
    {
     "name": "stderr",
     "output_type": "stream",
     "text": [
      "\n",
      "KeyboardInterrupt\n",
      "\n"
     ]
    }
   ],
   "source": [
    "mix.cvxopt()"
   ],
   "metadata": {
    "collapsed": false,
    "pycharm": {
     "name": "#%%\n"
    }
   }
  },
  {
   "cell_type": "code",
   "execution_count": 10,
   "outputs": [],
   "source": [
    "import numpy as np"
   ],
   "metadata": {
    "collapsed": false,
    "pycharm": {
     "name": "#%%\n"
    }
   }
  },
  {
   "cell_type": "code",
   "execution_count": 16,
   "outputs": [
    {
     "data": {
      "text/plain": "Track(id=y8vn7zV4t6M, title=\"Jason Fernandes - It Will Be Alright\")"
     },
     "execution_count": 16,
     "metadata": {},
     "output_type": "execute_result"
    }
   ],
   "source": [],
   "metadata": {
    "collapsed": false,
    "pycharm": {
     "name": "#%%\n"
    }
   }
  },
  {
   "cell_type": "code",
   "execution_count": 17,
   "outputs": [
    {
     "data": {
      "text/plain": "array([0.48, 0.48, 0.48, 0.48, 0.48, 0.48, 0.48, 0.48, 0.48, 0.48, 0.48,\n       0.49, 0.49, 0.49, 0.49, 0.49, 0.49, 0.49, 0.49])"
     },
     "execution_count": 17,
     "metadata": {},
     "output_type": "execute_result"
    }
   ],
   "source": [
    "np.unique(np.diff(mix.tracklist[2].beats()))"
   ],
   "metadata": {
    "collapsed": false,
    "pycharm": {
     "name": "#%%\n"
    }
   }
  }
 ],
 "metadata": {
  "kernelspec": {
   "display_name": "Python 3",
   "language": "python",
   "name": "python3"
  },
  "language_info": {
   "codemirror_mode": {
    "name": "ipython",
    "version": 2
   },
   "file_extension": ".py",
   "mimetype": "text/x-python",
   "name": "python",
   "nbconvert_exporter": "python",
   "pygments_lexer": "ipython2",
   "version": "2.7.6"
  }
 },
 "nbformat": 4,
 "nbformat_minor": 0
}